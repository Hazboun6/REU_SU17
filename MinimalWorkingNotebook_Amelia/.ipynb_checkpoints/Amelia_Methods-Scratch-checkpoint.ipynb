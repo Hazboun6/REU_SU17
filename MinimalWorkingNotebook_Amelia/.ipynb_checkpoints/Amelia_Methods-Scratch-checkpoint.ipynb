{
 "cells": [
  {
   "cell_type": "code",
   "execution_count": 1,
   "metadata": {
    "collapsed": true
   },
   "outputs": [],
   "source": [
    "%load_ext autoreload\n",
    "%autoreload 2"
   ]
  },
  {
   "cell_type": "code",
   "execution_count": 2,
   "metadata": {
    "collapsed": false
   },
   "outputs": [
    {
     "ename": "ImportError",
     "evalue": "No module named VersionZeroPointZero",
     "output_type": "error",
     "traceback": [
      "\u001b[0;31m---------------------------------------------------------------------------\u001b[0m",
      "\u001b[0;31mImportError\u001b[0m                               Traceback (most recent call last)",
      "\u001b[0;32m<ipython-input-2-bf5855a5a8cb>\u001b[0m in \u001b[0;36m<module>\u001b[0;34m()\u001b[0m\n\u001b[1;32m      3\u001b[0m \u001b[0;32mfrom\u001b[0m \u001b[0mmatplotlib\u001b[0m\u001b[0;34m.\u001b[0m\u001b[0mpyplot\u001b[0m \u001b[0;32mimport\u001b[0m \u001b[0;34m*\u001b[0m\u001b[0;34m\u001b[0m\u001b[0m\n\u001b[1;32m      4\u001b[0m \u001b[0mget_ipython\u001b[0m\u001b[0;34m(\u001b[0m\u001b[0;34m)\u001b[0m\u001b[0;34m.\u001b[0m\u001b[0mmagic\u001b[0m\u001b[0;34m(\u001b[0m\u001b[0;34mu'matplotlib inline'\u001b[0m\u001b[0;34m)\u001b[0m\u001b[0;34m\u001b[0m\u001b[0m\n\u001b[0;32m----> 5\u001b[0;31m \u001b[0;32mimport\u001b[0m \u001b[0mVersionZeroPointZero\u001b[0m \u001b[0;32mas\u001b[0m \u001b[0mPSS\u001b[0m\u001b[0;34m\u001b[0m\u001b[0m\n\u001b[0m\u001b[1;32m      6\u001b[0m \u001b[0;32mimport\u001b[0m \u001b[0mmath\u001b[0m\u001b[0;34m\u001b[0m\u001b[0m\n\u001b[1;32m      7\u001b[0m \u001b[0;32mimport\u001b[0m \u001b[0mnumpy\u001b[0m \u001b[0;32mas\u001b[0m \u001b[0mnp\u001b[0m\u001b[0;34m\u001b[0m\u001b[0m\n",
      "\u001b[0;31mImportError\u001b[0m: No module named VersionZeroPointZero"
     ]
    }
   ],
   "source": [
    "import numpy as np\n",
    "import scipy as sp\n",
    "from matplotlib.pyplot import *\n",
    "%matplotlib inline\n",
    "import VersionZeroPointZero as PSS\n",
    "import math\n",
    "import numpy as np"
   ]
  },
  {
   "cell_type": "code",
   "execution_count": null,
   "metadata": {
    "collapsed": true
   },
   "outputs": [],
   "source": [
    "rcParams['figure.figsize'] = (8.0,5.0)\n",
    "rcParams.update({'font.size': 14})"
   ]
  },
  {
   "cell_type": "code",
   "execution_count": 1,
   "metadata": {
    "collapsed": true
   },
   "outputs": [],
   "source": [
    "# The issues I currently have that still need rectifying before this gets put into the simulator are that\n",
    "# (1) I don't have a successful way of rolling the values such that the central frequency is adjusted to be at 0\n",
    "# and (2) I need an efficient way of slicing the array depending on a given instance's period and TotTime.  Here,\n",
    "# I defined signal = sig[0:400] just because it worked for the specific instance which I had created, because I\n",
    "# want it to only plot one pulse, but I assume the goal is to still apply this to the entire signal you input.\n",
    "\n",
    "# When I adjust the central frequency to be at 0, then the first value after that would be 1 (or however it's scaling\n",
    "# the frequencies, I know it isn't in steps of just 1, but as opposed to something else)?  Just want to make sure \n",
    "# I'm shifting everything correctly."
   ]
  },
  {
   "cell_type": "code",
   "execution_count": null,
   "metadata": {
    "collapsed": true
   },
   "outputs": [],
   "source": [
    "# I guess actually I have a couple more issues, one of which is that not all of the parameters which are called in this function\n",
    "# are in 'self', because certain properties such as the DM and T aren't found in the same class as the rest of the\n",
    "# parameters I'm calling.  I'm yet to find a successful way to get around this yet, or if it would be easier to \n",
    "# include these parameters all in the same class, as well as the other one I'm using.  Specifically, the attributes \n",
    "# in ISM aren't in Pulsar and vice versa, for some of them.  And last but not least, whould I be using a specific\n",
    "# channel for the definition of sig?  In plotting each of the 4 channels they all seemed pretty identical but I wanted\n",
    "# to double check it won't matter which one I use.  :)"
   ]
  },
  {
   "cell_type": "code",
   "execution_count": null,
   "metadata": {
    "collapsed": true
   },
   "outputs": [],
   "source": [
    "def Disperse(self):\n",
    "    sig = self.signal[1] \n",
    "    # TODO define only a part of the array to see just one signal\n",
    "    #prd = other.T\n",
    "    signal = sig[0:400]\n",
    "    DM = self.DM\n",
    "    f0 = self.f0\n",
    "    dt = self.TimeBinSize\n",
    "    fourier = np.fft.rfft(signal)\n",
    "    length = len(fourier)\n",
    "    values = np.linspace(-100,100,length) #Would it be useful to change -100,100 to something else?\n",
    "    freqs = np.fft.rfftfreq(2*len(values)-1,d=dt)\n",
    "    finalfreqs = freqs*1e6 # Hz -> MHz\n",
    "    H = np.exp(1j*2*np.pi*4.148808e9/((finalfreqs+f0)*f0**2)*DM*finalfreqs**2)\n",
    "    product = fourier*H\n",
    "    dispersed = np.fft.irfft(product)\n",
    "    plot(signal+20)\n",
    "    plot(dispersed)\n",
    "    show()"
   ]
  }
 ],
 "metadata": {
  "kernelspec": {
   "display_name": "Python 2",
   "language": "python",
   "name": "python2"
  },
  "language_info": {
   "codemirror_mode": {
    "name": "ipython",
    "version": 2
   },
   "file_extension": ".py",
   "mimetype": "text/x-python",
   "name": "python",
   "nbconvert_exporter": "python",
   "pygments_lexer": "ipython2",
   "version": "2.7.13"
  }
 },
 "nbformat": 4,
 "nbformat_minor": 2
}
