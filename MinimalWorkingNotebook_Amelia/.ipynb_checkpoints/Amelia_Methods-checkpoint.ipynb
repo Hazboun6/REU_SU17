{
 "cells": [
  {
   "cell_type": "code",
   "execution_count": 1,
   "metadata": {
    "collapsed": true
   },
   "outputs": [],
   "source": [
    "%load_ext autoreload\n",
    "%autoreload 2"
   ]
  },
  {
   "cell_type": "code",
   "execution_count": 3,
   "metadata": {
    "collapsed": false
   },
   "outputs": [],
   "source": [
    "import numpy as np\n",
    "import scipy as sp\n",
    "from matplotlib.pyplot import *\n",
    "%matplotlib inline\n",
    "sys.path.append('/Users/Poop/REU/')\n",
    "import VersionZeroPointZero as PSS\n",
    "import math\n",
    "import numpy as np"
   ]
  },
  {
   "cell_type": "code",
   "execution_count": null,
   "metadata": {
    "collapsed": true
   },
   "outputs": [],
   "source": [
    "rcParams['figure.figsize'] = (8.0,5.0)\n",
    "rcParams.update({'font.size': 14})"
   ]
  },
  {
   "cell_type": "code",
   "execution_count": 1,
   "metadata": {
    "collapsed": true
   },
   "outputs": [],
   "source": [
    "# I've temporarily multiplied all the values in the frequency array by 1000; it seems that using this value\n",
    "# puts a reasonable amount of frequencies in the negatives and the step size between any two points in the \n",
    "# array aren't too far apart."
   ]
  },
  {
   "cell_type": "code",
   "execution_count": null,
   "metadata": {
    "collapsed": true
   },
   "outputs": [],
   "source": [
    "# Should I be using a specific channel for the definition of sig?  In plotting each of the 4 channels\n",
    "# they all seemed pretty identical but I wanted to double check it won't matter which one I use.  :)"
   ]
  },
  {
   "cell_type": "code",
   "execution_count": null,
   "metadata": {
    "collapsed": true
   },
   "outputs": [],
   "source": [
    "def Disperse(self):\n",
    "    sig = self.signal[1] \n",
    "    signal = sig[0:4000]\n",
    "    DM = self.DM\n",
    "    f0 = self.f0\n",
    "    dt = self.TimeBinSize\n",
    "    fourier = np.fft.rfft(sig)\n",
    "    length = len(fourier)\n",
    "    values = np.linspace(-100,100,length) #Would it be useful to change -100,100 to something else?\n",
    "    freqs = np.fft.rfftfreq(2*len(values)-1,d=dt)\n",
    "    finalfreqs = freqs*1e3 # Hz -> MHz\n",
    "    FinalFreqs = finalfreqs-f0+1e-10 # Added the 1e-10 to avoid division by 0 errors in exponent\n",
    "    #print FinalFreqs\n",
    "    H = np.exp(1j*2*np.pi*4.148808e9/((FinalFreqs+f0)*f0**2)*DM*FinalFreqs**2)\n",
    "    product = fourier*H\n",
    "    dispersed = np.fft.irfft(product)\n",
    "    plot(signal+20)\n",
    "    plot(dispersed)\n",
    "    xlim(0,1200)\n",
    "    show()"
   ]
  }
 ],
 "metadata": {
  "kernelspec": {
   "display_name": "Python 2",
   "language": "python",
   "name": "python2"
  },
  "language_info": {
   "codemirror_mode": {
    "name": "ipython",
    "version": 2
   },
   "file_extension": ".py",
   "mimetype": "text/x-python",
   "name": "python",
   "nbconvert_exporter": "python",
   "pygments_lexer": "ipython2",
   "version": "2.7.13"
  }
 },
 "nbformat": 4,
 "nbformat_minor": 2
}
