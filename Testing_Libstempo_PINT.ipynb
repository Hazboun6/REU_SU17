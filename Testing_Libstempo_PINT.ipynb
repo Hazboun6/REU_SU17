{
 "cells": [
  {
   "cell_type": "markdown",
   "metadata": {},
   "source": [
    "# Testing CGW with PINT and Libstempo"
   ]
  },
  {
   "cell_type": "code",
   "execution_count": null,
   "metadata": {},
   "outputs": [],
   "source": [
    "# General Imports\n",
    "import numpy as np\n",
    "import astropy.units as u\n",
    "import astropy.constants as c\n",
    "import matplotlib.pyplot as plt\n",
    "from matplotlib.pyplot import *\n",
    "\n",
    "# Imports for Tempo\n",
    "from libstempo.libstempo import *\n",
    "import libstempo as T\n",
    "import libstempo.toasim as TOA\n",
    "from libstempo import eccUtils as eu\n",
    "try:\n",
    "    import ephem\n",
    "except:\n",
    "    print(\"Warning: cannot find the ephem package, needed for createGWB.\")\n",
    "from libstempo.libstempo import GWB\n",
    "\n",
    "# Imports for PINT\n",
    "import pint as p\n",
    "import pint.toa as toa\n",
    "import pint.models as models"
   ]
  },
  {
   "cell_type": "code",
   "execution_count": null,
   "metadata": {
    "collapsed": true
   },
   "outputs": [],
   "source": [
    "%matplotlib inline\n",
    "matplotlib.rcParams['figure.figsize']=(9,5)"
   ]
  },
  {
   "cell_type": "markdown",
   "metadata": {},
   "source": [
    "Pulling the add_cgw function from libstempo/toasim.py to change small things to look at residuals"
   ]
  },
  {
   "cell_type": "code",
   "execution_count": null,
   "metadata": {
    "collapsed": true
   },
   "outputs": [],
   "source": [
    "def add_cgw(psr, gwtheta, gwphi, mc, dist, fgw, phase0, psi, inc, pdist=1.0, \\\n",
    "                        pphase=None, psrTerm=True, evolve=True, \\\n",
    "                        phase_approx=False, tref=0):\n",
    "    \"\"\"\n",
    "    Function to create GW-induced residuals from a SMBMB as \n",
    "    defined in Ellis et. al 2012,2013. Tries to be smart about it...\n",
    "    :param psr: pulsar object\n",
    "    :param gwtheta: Polar angle of GW source in celestial coords [radians]\n",
    "    :param gwphi: Azimuthal angle of GW source in celestial coords [radians]\n",
    "    :param mc: Chirp mass of SMBMB [solar masses]\n",
    "    :param dist: Luminosity distance to SMBMB [Mpc]\n",
    "    :param fgw: Frequency of GW (twice the orbital frequency) [Hz]\n",
    "    :param phase0: Initial Phase of GW source [radians]\n",
    "    :param psi: Polarization of GW source [radians]\n",
    "    :param inc: Inclination of GW source [radians]\n",
    "    :param pdist: Pulsar distance to use other than those in psr [kpc]\n",
    "    :param pphase: Use pulsar phase to determine distance [radian]\n",
    "    :param psrTerm: Option to include pulsar term [boolean] \n",
    "    :param evolve: Option to exclude evolution [boolean]\n",
    "    :param tref: Fidicuial time at which initial parameters are referenced\n",
    "    :returns: Vector of induced residuals\n",
    "    \"\"\"\n",
    "\n",
    "    # convert units\n",
    "    mc *= eu.SOLAR2S         # convert from solar masses to seconds\n",
    "    dist *= eu.MPC2S    # convert from Mpc to seconds\n",
    "    \n",
    "    # define initial orbital frequency \n",
    "    w0 = np.pi * fgw\n",
    "    phase0 /= 2 # orbital phase\n",
    "    w053 = w0**(-5/3)\n",
    "\n",
    "    # define variable for later use\n",
    "    cosgwtheta, cosgwphi = np.cos(gwtheta), np.cos(gwphi)\n",
    "    singwtheta, singwphi = np.sin(gwtheta), np.sin(gwphi)\n",
    "    sin2psi, cos2psi = np.sin(2*psi), np.cos(2*psi)\n",
    "    incfac1, incfac2 = 0.5*(3+np.cos(2*inc)), 2*np.cos(inc)\n",
    "\n",
    "    # unit vectors to GW source\n",
    "    m = np.array([singwphi, -cosgwphi, 0.0])\n",
    "    n = np.array([-cosgwtheta*cosgwphi, -cosgwtheta*singwphi, singwtheta])\n",
    "    omhat = np.array([-singwtheta*cosgwphi, -singwtheta*singwphi, -cosgwtheta])\n",
    "\n",
    "    # various factors invloving GW parameters\n",
    "    fac1 = 256/5 * mc**(5/3) * w0**(8/3)\n",
    "    fac2 = 1/32/mc**(5/3)\n",
    "    fac3 = mc**(5/3)/dist\n",
    "\n",
    "    # pulsar location\n",
    "    if 'RAJ' and 'DECJ' in psr.pars():\n",
    "        ptheta = np.pi/2 - psr['DECJ'].val\n",
    "        pphi = psr['RAJ'].val\n",
    "    elif 'ELONG' and 'ELAT' in psr.pars():\n",
    "        fac = 180./np.pi\n",
    "        coords = ephem.Equatorial(ephem.Ecliptic(str(psr['ELONG'].val*fac), \n",
    "                                                 str(psr['ELAT'].val*fac)))\n",
    "        \n",
    "        ptheta = np.pi/2 - float(repr(coords.dec))\n",
    "        pphi = float(repr(coords.ra))\n",
    "\n",
    "    # use definition from Sesana et al 2010 and Ellis et al 2012\n",
    "    phat = np.array([np.sin(ptheta)*np.cos(pphi), np.sin(ptheta)*np.sin(pphi),\\\n",
    "            np.cos(ptheta)])\n",
    "\n",
    "    fplus = 0.5 * (np.dot(m, phat)**2 - np.dot(n, phat)**2) / (1+np.dot(omhat, phat))\n",
    "    fcross = (np.dot(m, phat)*np.dot(n, phat)) / (1 + np.dot(omhat, phat))\n",
    "    cosMu = -np.dot(omhat, phat)\n",
    "\n",
    "\n",
    "    # get values from pulsar object\n",
    "    toas = psr.toas()*86400 - tref\n",
    "    if pphase is not None:\n",
    "        pd = pphase/(2*np.pi*fgw*(1-cosMu)) / eu.KPC2S\n",
    "    else:\n",
    "        pd = pdist\n",
    "\n",
    "    # convert units\n",
    "    pd *= eu.KPC2S   # convert from kpc to seconds\n",
    "    \n",
    "    # get pulsar time\n",
    "    tp = toas-pd*(1-cosMu)\n",
    "\n",
    "    # evolution\n",
    "    if evolve:\n",
    "\n",
    "        # calculate time dependent frequency at earth and pulsar\n",
    "        omega = w0 * (1 - fac1 * toas)**(-3/8)\n",
    "        omega_p = w0 * (1 - fac1 * tp)**(-3/8)\n",
    "\n",
    "        # calculate time dependent phase\n",
    "        phase = phase0 + fac2 * (w053 - omega**(-5/3))\n",
    "        phase_p = phase0 + fac2 * (w053 - omega_p**(-5/3))       \n",
    "        \n",
    "    # use approximation that frequency does not evlolve over observation time\n",
    "    elif phase_approx:\n",
    "        \n",
    "        # frequencies\n",
    "        omega = w0\n",
    "        omega_p = w0 * (1 + fac1 * pd*(1-cosMu))**(-3/8)\n",
    "        \n",
    "        # phases\n",
    "        phase = phase0 + omega * toas\n",
    "        phase_p = phase0 + fac2 * (w053 - omega_p**(-5/3)) + omega_p*toas\n",
    "          \n",
    "    # no evolution\n",
    "    else: \n",
    "        \n",
    "        # monochromatic\n",
    "        omega = w0\n",
    "        omega_p = omega\n",
    "        \n",
    "        # phases\n",
    "        phase = phase0 + omega * toas\n",
    "        phase_p = phase0 + omega * tp\n",
    "        \n",
    "\n",
    "        \n",
    "    # define time dependent coefficients\n",
    "    At = np.sin(2*phase) * incfac1\n",
    "    Bt = np.cos(2*phase) * incfac2\n",
    "    At_p = np.sin(2*phase_p) * incfac1\n",
    "    Bt_p = np.cos(2*phase_p) * incfac2\n",
    "\n",
    "    \n",
    "    # now define time dependent amplitudes\n",
    "    alpha = fac3 / omega**(1/3)\n",
    "    alpha_p = fac3 / omega_p**(1/3)\n",
    "    \n",
    "\n",
    "    # define rplus and rcross\n",
    "    rplus = alpha * (At*cos2psi + Bt*sin2psi)\n",
    "    rcross = alpha * (-At*sin2psi + Bt*cos2psi)\n",
    "    rplus_p = alpha_p * (At_p*cos2psi + Bt_p*sin2psi)\n",
    "    rcross_p = alpha_p * (-At_p*sin2psi + Bt_p*cos2psi)\n",
    "    \n",
    "\n",
    "\n",
    "    # residuals\n",
    "    if psrTerm:\n",
    "        res = fplus*(rplus_p-rplus)+fcross*(rcross_p-rcross)\n",
    "    else:\n",
    "        res = -fplus*rplus - fcross*rcross\n",
    "\n",
    "    psr.stoas[:] += res/86400\n",
    "    return res"
   ]
  },
  {
   "cell_type": "markdown",
   "metadata": {},
   "source": [
    "Initializing TOAs and parfile"
   ]
  },
  {
   "cell_type": "code",
   "execution_count": null,
   "metadata": {
    "collapsed": true
   },
   "outputs": [],
   "source": [
    "# Access par/tim files for a given pulsar\n",
    "\n",
    "psr = \"J1909-3744\"\n",
    "# psr = \"J1713+0747\"\n",
    "\n",
    "tim = api.get_tim_files(limit=50,pulsar=psr)\n",
    "tim_filename = tim['tim_full_path'][0]\n",
    "\n",
    "par = api.get_par_files(pulsar=psr)\n",
    "par_filename = par['ephemeris_full_path'][0]"
   ]
  },
  {
   "cell_type": "code",
   "execution_count": null,
   "metadata": {
    "collapsed": true
   },
   "outputs": [],
   "source": [
    "t = toa.get_TOAs(timfile=tim_filename,ephem='de421') #Getting TOAs for PINT"
   ]
  },
  {
   "cell_type": "code",
   "execution_count": null,
   "metadata": {
    "collapsed": true
   },
   "outputs": [],
   "source": [
    "m_pint = models.get_model(par_filename) #PINT model"
   ]
  },
  {
   "cell_type": "code",
   "execution_count": null,
   "metadata": {
    "collapsed": true
   },
   "outputs": [],
   "source": [
    "# Run Tempo\n",
    "\n",
    "psr = T.tempopulsar(parfile=par_filename,timfile=tim_filename, dofit=True)"
   ]
  },
  {
   "cell_type": "code",
   "execution_count": null,
   "metadata": {
    "collapsed": true
   },
   "outputs": [],
   "source": [
    "# Adding CGW with Libstempo\n",
    "\n",
    "ress=add_cgw(psr, gwtheta=0.75,gwphi=0.75,mc=10**9, dist=400,fgw=10**(-8),phase0=.75,psi=0.75, inc=0.75)"
   ]
  },
  {
   "cell_type": "code",
   "execution_count": null,
   "metadata": {
    "collapsed": true
   },
   "outputs": [],
   "source": [
    "# Adding CGW with PINT\n",
    "\n",
    "ress1=p.models.GravWave.grav_wave(t,m_pint, gwtheta=0.75,gwphi=0.75,mc=10**9, dist=400,fgw=10**(-8),phase0=.75,psi=0.75, inc=0.75)"
   ]
  },
  {
   "cell_type": "code",
   "execution_count": null,
   "metadata": {
    "collapsed": true
   },
   "outputs": [],
   "source": [
    "# Plotting residuals from Tempo\n",
    "\n",
    "plt.plot(psr.toas(),ress,\"g.\",label=\"Tempo\")\n",
    "plt.show()"
   ]
  },
  {
   "cell_type": "code",
   "execution_count": null,
   "metadata": {
    "collapsed": true
   },
   "outputs": [],
   "source": [
    "# Plotting residuals from PINT\n",
    "\n",
    "plt.plot(t.get_mjds(),ress1,\"r.\",label=\"PINT\")\n",
    "plt.show()"
   ]
  },
  {
   "cell_type": "code",
   "execution_count": null,
   "metadata": {
    "collapsed": true
   },
   "outputs": [],
   "source": [
    "# Overplotting residuals from both\n",
    "\n",
    "plt.plot(t.get_mjds(),ress1,\"r.\",label=\"PINT\")\n",
    "plt.plot(psr.toas(),ress,\"g.\",label=\"Tempo\")\n",
    "plt.legend()\n",
    "plt.show()"
   ]
  },
  {
   "cell_type": "code",
   "execution_count": null,
   "metadata": {
    "collapsed": true
   },
   "outputs": [],
   "source": [
    "# Plotting difference in residuals\n",
    "\n",
    "diff_resids=ress-ress1 #calculating difference in residuals\n",
    "\n",
    "plt.plot(t.get_mjds(),diff_resids,\".\")\n",
    "plt.show()"
   ]
  },
  {
   "cell_type": "code",
   "execution_count": null,
   "metadata": {
    "collapsed": true
   },
   "outputs": [],
   "source": []
  }
 ],
 "metadata": {
  "kernelspec": {
   "display_name": "Python 3",
   "language": "python",
   "name": "python3"
  },
  "language_info": {
   "codemirror_mode": {
    "name": "ipython",
    "version": 3
   },
   "file_extension": ".py",
   "mimetype": "text/x-python",
   "name": "python",
   "nbconvert_exporter": "python",
   "pygments_lexer": "ipython3",
   "version": "3.6.1"
  }
 },
 "nbformat": 4,
 "nbformat_minor": 2
}
