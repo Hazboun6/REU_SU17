{
 "cells": [
  {
   "cell_type": "code",
   "execution_count": 3,
   "metadata": {
    "collapsed": true
   },
   "outputs": [],
   "source": [
    "import pint.toa as toa\n",
    "import pint.models as models\n",
    "import matplotlib.pyplot as plt\n",
    "import pint.residuals as res\n",
    "import astropy.units as u\n",
    "from pint.fitter import WlsFitter as wls\n",
    "import astropy.constants as c "
   ]
  },
  {
   "cell_type": "code",
   "execution_count": 2,
   "metadata": {
    "collapsed": true
   },
   "outputs": [],
   "source": [
    "%matplotlib inline"
   ]
  },
  {
   "cell_type": "code",
   "execution_count": 15,
   "metadata": {},
   "outputs": [],
   "source": [
    "tim ='PINT/tests/datafile/J0613-0200_NANOGrav_dfg+12.tim'\n",
    "par = 'PINT/tests/datafile/J0613-0200_NANOGrav_dfg+12_TAI_FB90.par'"
   ]
  },
  {
   "cell_type": "code",
   "execution_count": 23,
   "metadata": {
    "collapsed": true
   },
   "outputs": [],
   "source": [
    "less PINT/tests/datafile/J0613-0200_NANOGrav_dfg+12_TAI_FB90.par"
   ]
  },
  {
   "cell_type": "code",
   "execution_count": 16,
   "metadata": {},
   "outputs": [
    {
     "name": "stdout",
     "output_type": "stream",
     "text": [
      "INFO: Applying clock corrections. [pint.toa]\n",
      "INFO: Observatory gbt, loading clock file /Users/Poop/.local/lib/python2.7/site-packages/pint-0.5.2+188.g956df46-py2.7-macosx-10.7-x86_64.egg/pint/datafiles/time.dat [pint.observatory.topo_obs]\n",
      "INFO: Observatory gbt, loading GPS clock file /Users/Poop/.local/lib/python2.7/site-packages/pint-0.5.2+188.g956df46-py2.7-macosx-10.7-x86_64.egg/pint/datafiles/gps2utc.clk [pint.observatory.topo_obs]\n",
      "INFO: Observatory gbt, loading BIPM clock file /Users/Poop/.local/lib/python2.7/site-packages/pint-0.5.2+188.g956df46-py2.7-macosx-10.7-x86_64.egg/pint/datafiles/tai2tt_bipm2015.clk [pint.observatory.topo_obs]\n",
      "INFO: Getting IERS params and computing TDBs. [pint.toa]\n",
      "INFO: Computing TDB columns. [pint.toa]\n",
      "INFO: Computing observatory positions and velocities. [pint.toa]\n",
      "INFO: Compute positions and velocities of observatories and Earth (planets = False), using DE405 ephemeris [pint.toa]\n",
      "INFO: Adding columns ssb_obs_pos ssb_obs_vel obs_sun_pos [pint.toa]\n"
     ]
    }
   ],
   "source": [
    "t = toa.get_TOAs(timfile=tim,ephem='DE405') # not including DE405 makes the residuals be all fucky and different"
   ]
  },
  {
   "cell_type": "code",
   "execution_count": 13,
   "metadata": {
    "collapsed": true
   },
   "outputs": [
    {
     "data": {
      "text/html": [
       "&lt;Table length=1113&gt;\n",
       "<table id=\"table4710221648\" class=\"table-striped table-bordered table-condensed\">\n",
       "<thead><tr><th>index</th><th>mjd</th><th>mjd_float</th><th>error</th><th>freq</th><th>obs</th><th>flags</th><th>tdb</th><th>tdbld</th><th>ssb_obs_pos [3]</th><th>ssb_obs_vel [3]</th><th>obs_sun_pos [3]</th></tr></thead>\n",
       "<thead><tr><th></th><th></th><th>d</th><th>us</th><th>MHz</th><th></th><th></th><th></th><th></th><th>km</th><th>km / s</th><th>km</th></tr></thead>\n",
       "<thead><tr><th>int64</th><th>object</th><th>float64</th><th>float64</th><th>float64</th><th>str3</th><th>object</th><th>object</th><th>float128</th><th>float64</th><th>float64</th><th>float64</th></tr></thead>\n",
       "<tr><td>0</td><td>53679.5461991</td><td>53679.5461991</td><td>4.484</td><td>1340.0</td><td>gbt</td><td>{&apos;be&apos;: &apos;GASP&apos;, &apos;B&apos;: &apos;L&apos;, &apos;name&apos;: &apos;53679.000008.1.000.000.tsum&apos;, &apos;tobs&apos;: 2343.151, &apos;format&apos;: &apos;Tempo2&apos;, &apos;clkcorr&apos;: &lt;Quantity 2.6716306558566573e-05 s&gt;, &apos;pta&apos;: &apos;NANOGrav&apos;, &apos;chanid&apos;: &apos;gasp_1340&apos;, &apos;bw&apos;: 4.0, &apos;fe&apos;: &apos;Rcvr1_2&apos;, &apos;proc&apos;: &apos;dfg+12&apos;}</td><td>53679.5469419</td><td>53679.5469419</td><td>108808245.201 .. 40439431.1005</td><td>-20.9873373398 .. 8.60662313275</td><td>-108207151.113 .. -40345731.3662</td></tr>\n",
       "<tr><td>1</td><td>53736.3881392</td><td>53736.3881392</td><td>5.786</td><td>1340.0</td><td>gbt</td><td>{&apos;be&apos;: &apos;GASP&apos;, &apos;B&apos;: &apos;L&apos;, &apos;name&apos;: &apos;53736.000004.1.000.000.tsum&apos;, &apos;tobs&apos;: 1802.424, &apos;format&apos;: &apos;Tempo2&apos;, &apos;clkcorr&apos;: &lt;Quantity 2.702439005122599e-05 s&gt;, &apos;pta&apos;: &apos;NANOGrav&apos;, &apos;chanid&apos;: &apos;gasp_1340&apos;, &apos;bw&apos;: 4.0, &apos;fe&apos;: &apos;Rcvr1_2&apos;, &apos;proc&apos;: &apos;dfg+12&apos;}</td><td>53736.3888936</td><td>53736.3888936</td><td>-26837247.33 .. 57608481.2855</td><td>-29.8886270284 .. -2.25033072861</td><td>27417352.8341 .. -57493332.151</td></tr>\n",
       "<tr><td>2</td><td>53736.3881392</td><td>53736.3881392</td><td>4.965</td><td>1344.0</td><td>gbt</td><td>{&apos;be&apos;: &apos;GASP&apos;, &apos;B&apos;: &apos;L&apos;, &apos;name&apos;: &apos;53736.000004.1.000.000.tsum&apos;, &apos;tobs&apos;: 1802.424, &apos;format&apos;: &apos;Tempo2&apos;, &apos;clkcorr&apos;: &lt;Quantity 2.7024390051190895e-05 s&gt;, &apos;pta&apos;: &apos;NANOGrav&apos;, &apos;chanid&apos;: &apos;gasp_1344&apos;, &apos;bw&apos;: 4.0, &apos;fe&apos;: &apos;Rcvr1_2&apos;, &apos;proc&apos;: &apos;dfg+12&apos;}</td><td>53736.3888936</td><td>53736.3888936</td><td>-26837247.3135 .. 57608481.2867</td><td>-29.8886270429 .. -2.25033072727</td><td>27417352.8176 .. -57493332.1523</td></tr>\n",
       "<tr><td>3</td><td>53679.546199</td><td>53679.546199</td><td>2.247</td><td>1348.0</td><td>gbt</td><td>{&apos;be&apos;: &apos;GASP&apos;, &apos;B&apos;: &apos;L&apos;, &apos;name&apos;: &apos;53679.000008.1.000.000.tsum&apos;, &apos;tobs&apos;: 2343.151, &apos;format&apos;: &apos;Tempo2&apos;, &apos;clkcorr&apos;: &lt;Quantity 2.6716306558462917e-05 s&gt;, &apos;pta&apos;: &apos;NANOGrav&apos;, &apos;chanid&apos;: &apos;gasp_1348&apos;, &apos;bw&apos;: 4.0, &apos;fe&apos;: &apos;Rcvr1_2&apos;, &apos;proc&apos;: &apos;dfg+12&apos;}</td><td>53679.5469419</td><td>53679.5469419</td><td>108808245.224 .. 40439431.0913</td><td>-20.987337362 .. 8.60662313453</td><td>-108207151.135 .. -40345731.357</td></tr>\n",
       "<tr><td>4</td><td>53736.3881392</td><td>53736.3881392</td><td>2.117</td><td>1348.0</td><td>gbt</td><td>{&apos;be&apos;: &apos;GASP&apos;, &apos;B&apos;: &apos;L&apos;, &apos;name&apos;: &apos;53736.000004.1.000.000.tsum&apos;, &apos;tobs&apos;: 1802.424, &apos;format&apos;: &apos;Tempo2&apos;, &apos;clkcorr&apos;: &lt;Quantity 2.702439005115696e-05 s&gt;, &apos;pta&apos;: &apos;NANOGrav&apos;, &apos;chanid&apos;: &apos;gasp_1348&apos;, &apos;bw&apos;: 4.0, &apos;fe&apos;: &apos;Rcvr1_2&apos;, &apos;proc&apos;: &apos;dfg+12&apos;}</td><td>53736.3888936</td><td>53736.3888936</td><td>-26837247.2976 .. 57608481.2879</td><td>-29.8886270569 .. -2.25033072598</td><td>27417352.8017 .. -57493332.1535</td></tr>\n",
       "<tr><td>5</td><td>53679.5461991</td><td>53679.5461991</td><td>2.592</td><td>1352.0</td><td>gbt</td><td>{&apos;be&apos;: &apos;GASP&apos;, &apos;B&apos;: &apos;L&apos;, &apos;name&apos;: &apos;53679.000008.1.000.000.tsum&apos;, &apos;tobs&apos;: 2343.151, &apos;format&apos;: &apos;Tempo2&apos;, &apos;clkcorr&apos;: &lt;Quantity 2.6716306558709102e-05 s&gt;, &apos;pta&apos;: &apos;NANOGrav&apos;, &apos;chanid&apos;: &apos;gasp_1352&apos;, &apos;bw&apos;: 4.0, &apos;fe&apos;: &apos;Rcvr1_2&apos;, &apos;proc&apos;: &apos;dfg+12&apos;}</td><td>53679.5469419</td><td>53679.5469419</td><td>108808245.171 .. 40439431.1131</td><td>-20.9873373092 .. 8.6066231303</td><td>-108207151.082 .. -40345731.3788</td></tr>\n",
       "<tr><td>6</td><td>53736.3881392</td><td>53736.3881392</td><td>3.173</td><td>1352.0</td><td>gbt</td><td>{&apos;be&apos;: &apos;GASP&apos;, &apos;B&apos;: &apos;L&apos;, &apos;name&apos;: &apos;53736.000004.1.000.000.tsum&apos;, &apos;tobs&apos;: 1802.424, &apos;format&apos;: &apos;Tempo2&apos;, &apos;clkcorr&apos;: &lt;Quantity 2.7024390051318187e-05 s&gt;, &apos;pta&apos;: &apos;NANOGrav&apos;, &apos;chanid&apos;: &apos;gasp_1352&apos;, &apos;bw&apos;: 4.0, &apos;fe&apos;: &apos;Rcvr1_2&apos;, &apos;proc&apos;: &apos;dfg+12&apos;}</td><td>53736.3888937</td><td>53736.3888937</td><td>-26837247.3733 .. 57608481.2822</td><td>-29.8886269903 .. -2.25033073212</td><td>27417352.8774 .. -57493332.1478</td></tr>\n",
       "<tr><td>7</td><td>53679.5461991</td><td>53679.5461991</td><td>8.093</td><td>1356.0</td><td>gbt</td><td>{&apos;be&apos;: &apos;GASP&apos;, &apos;B&apos;: &apos;L&apos;, &apos;name&apos;: &apos;53679.000008.1.000.000.tsum&apos;, &apos;tobs&apos;: 2343.151, &apos;format&apos;: &apos;Tempo2&apos;, &apos;clkcorr&apos;: &lt;Quantity 2.6716306558659415e-05 s&gt;, &apos;pta&apos;: &apos;NANOGrav&apos;, &apos;chanid&apos;: &apos;gasp_1356&apos;, &apos;bw&apos;: 4.0, &apos;fe&apos;: &apos;Rcvr1_2&apos;, &apos;proc&apos;: &apos;dfg+12&apos;}</td><td>53679.5469419</td><td>53679.5469419</td><td>108808245.181 .. 40439431.1087</td><td>-20.9873373199 .. 8.60662313115</td><td>-108207151.093 .. -40345731.3744</td></tr>\n",
       "<tr><td>8</td><td>53736.3881392</td><td>53736.3881392</td><td>1.709</td><td>1356.0</td><td>gbt</td><td>{&apos;be&apos;: &apos;GASP&apos;, &apos;B&apos;: &apos;L&apos;, &apos;name&apos;: &apos;53736.000004.1.000.000.tsum&apos;, &apos;tobs&apos;: 1802.424, &apos;format&apos;: &apos;Tempo2&apos;, &apos;clkcorr&apos;: &lt;Quantity 2.7024390051285735e-05 s&gt;, &apos;pta&apos;: &apos;NANOGrav&apos;, &apos;chanid&apos;: &apos;gasp_1356&apos;, &apos;bw&apos;: 4.0, &apos;fe&apos;: &apos;Rcvr1_2&apos;, &apos;proc&apos;: &apos;dfg+12&apos;}</td><td>53736.3888937</td><td>53736.3888937</td><td>-26837247.358 .. 57608481.2833</td><td>-29.8886270037 .. -2.25033073088</td><td>27417352.8621 .. -57493332.1489</td></tr>\n",
       "<tr><td>...</td><td>...</td><td>...</td><td>...</td><td>...</td><td>...</td><td>...</td><td>...</td><td>...</td><td>...</td><td>...</td><td>...</td></tr>\n",
       "<tr><td>1103</td><td>54707.7420285</td><td>54707.7420285</td><td>2.464</td><td>880.0</td><td>gbt</td><td>{&apos;be&apos;: &apos;GASP&apos;, &apos;B&apos;: 820, &apos;name&apos;: &apos;54707.000008.1.000.000.tsum&apos;, &apos;tobs&apos;: 720.232, &apos;format&apos;: &apos;Tempo2&apos;, &apos;clkcorr&apos;: &lt;Quantity 2.7043000006140686e-05 s&gt;, &apos;pta&apos;: &apos;NANOGrav&apos;, &apos;chanid&apos;: &apos;gasp_880&apos;, &apos;bw&apos;: 4.0, &apos;fe&apos;: &apos;Rcvr_800&apos;, &apos;proc&apos;: &apos;dfg+12&apos;}</td><td>54707.7427829</td><td>54707.7427829</td><td>138452405.633 .. -23550349.7416</td><td>11.2371129946 .. 10.8362116132</td><td>-138659654.001 .. 23830868.2657</td></tr>\n",
       "<tr><td>1104</td><td>54765.578581</td><td>54765.578581</td><td>0.567</td><td>880.0</td><td>gbt</td><td>{&apos;be&apos;: &apos;GASP&apos;, &apos;B&apos;: 820, &apos;name&apos;: &apos;54765.000003.1.000.000.tsum&apos;, &apos;tobs&apos;: 1680.542, &apos;format&apos;: &apos;Tempo2&apos;, &apos;clkcorr&apos;: &lt;Quantity 2.7146547285838654e-05 s&gt;, &apos;pta&apos;: &apos;NANOGrav&apos;, &apos;chanid&apos;: &apos;gasp_880&apos;, &apos;bw&apos;: 4.0, &apos;fe&apos;: &apos;Rcvr_800&apos;, &apos;proc&apos;: &apos;dfg+12&apos;}</td><td>54765.5793354</td><td>54765.5793354</td><td>123872267.785 .. 32835296.6659</td><td>-16.9977024729 .. 9.85153123214</td><td>-124132174.912 .. -32561042.5284</td></tr>\n",
       "<tr><td>1105</td><td>54794.5032222</td><td>54794.5032222</td><td>1.022</td><td>880.0</td><td>gbt</td><td>{&apos;be&apos;: &apos;GASP&apos;, &apos;B&apos;: 820, &apos;name&apos;: &apos;54794.000001.1.000.000.tsum&apos;, &apos;tobs&apos;: 1680.542, &apos;format&apos;: &apos;Tempo2&apos;, &apos;clkcorr&apos;: &lt;Quantity 2.7239243181815523e-05 s&gt;, &apos;pta&apos;: &apos;NANOGrav&apos;, &apos;chanid&apos;: &apos;gasp_880&apos;, &apos;bw&apos;: 4.0, &apos;fe&apos;: &apos;Rcvr_800&apos;, &apos;proc&apos;: &apos;dfg+12&apos;}</td><td>54794.5039766</td><td>54794.5039766</td><td>67988003.2025 .. 52361428.2126</td><td>-27.009386516 .. 5.43642880264</td><td>-68273327.7529 .. -52091067.9039</td></tr>\n",
       "<tr><td>1106</td><td>54013.6397142</td><td>54013.6397142</td><td>0.597</td><td>884.0</td><td>gbt</td><td>{&apos;be&apos;: &apos;GASP&apos;, &apos;B&apos;: 820, &apos;name&apos;: &apos;54013.000003.1.000.000.tsum&apos;, &apos;tobs&apos;: 1440.464, &apos;format&apos;: &apos;Tempo2&apos;, &apos;clkcorr&apos;: &lt;Quantity 2.7099012486461066e-05 s&gt;, &apos;pta&apos;: &apos;NANOGrav&apos;, &apos;chanid&apos;: &apos;gasp_884&apos;, &apos;bw&apos;: 4.0, &apos;fe&apos;: &apos;Rcvr_800&apos;, &apos;proc&apos;: &apos;dfg+12&apos;}</td><td>54013.6404687</td><td>54013.6404687</td><td>146646949.187 .. 12742920.7478</td><td>-6.86639662466 .. 11.5356104688</td><td>-146227728.023 .. -12535576.8711</td></tr>\n",
       "<tr><td>1107</td><td>54035.5774928</td><td>54035.5774928</td><td>0.473</td><td>884.0</td><td>gbt</td><td>{&apos;be&apos;: &apos;GASP&apos;, &apos;B&apos;: 820, &apos;name&apos;: &apos;54035.000003.1.000.000.tsum&apos;, &apos;tobs&apos;: 1800.58, &apos;format&apos;: &apos;Tempo2&apos;, &apos;clkcorr&apos;: &lt;Quantity 2.71001450167676e-05 s&gt;, &apos;pta&apos;: &apos;NANOGrav&apos;, &apos;chanid&apos;: &apos;gasp_884&apos;, &apos;bw&apos;: 4.0, &apos;fe&apos;: &apos;Rcvr_800&apos;, &apos;proc&apos;: &apos;dfg+12&apos;}</td><td>54035.5782473</td><td>54035.5782473</td><td>123773559.822 .. 33213885.3701</td><td>-17.2288354063 .. 9.79091290133</td><td>-123370451.196 .. -33000464.0716</td></tr>\n",
       "<tr><td>1108</td><td>54072.4770067</td><td>54072.4770067</td><td>0.361</td><td>884.0</td><td>gbt</td><td>{&apos;be&apos;: &apos;GASP&apos;, &apos;B&apos;: 820, &apos;name&apos;: &apos;54072.000004.1.000.000.tsum&apos;, &apos;tobs&apos;: 1800.58, &apos;format&apos;: &apos;Tempo2&apos;, &apos;clkcorr&apos;: &lt;Quantity 2.7143155184857868e-05 s&gt;, &apos;pta&apos;: &apos;NANOGrav&apos;, &apos;chanid&apos;: &apos;gasp_884&apos;, &apos;bw&apos;: 4.0, &apos;fe&apos;: &apos;Rcvr_800&apos;, &apos;proc&apos;: &apos;dfg+12&apos;}</td><td>54072.4777612</td><td>54072.4777612</td><td>48227025.2307 .. 55706052.824</td><td>-28.7613707844 .. 3.80028672303</td><td>-47851992.9584 .. -55482886.6291</td></tr>\n",
       "<tr><td>1109</td><td>54185.1687421</td><td>54185.1687421</td><td>2.322</td><td>884.0</td><td>gbt</td><td>{&apos;be&apos;: &apos;GASP&apos;, &apos;B&apos;: 820, &apos;name&apos;: &apos;54185.000005.1.000.000.tsum&apos;, &apos;tobs&apos;: 1440.464, &apos;format&apos;: &apos;Tempo2&apos;, &apos;clkcorr&apos;: &lt;Quantity 2.7334073727470248e-05 s&gt;, &apos;pta&apos;: &apos;NANOGrav&apos;, &apos;chanid&apos;: &apos;gasp_884&apos;, &apos;bw&apos;: 4.0, &apos;fe&apos;: &apos;Rcvr_800&apos;, &apos;proc&apos;: &apos;dfg+12&apos;}</td><td>54185.1694966</td><td>54185.1694966</td><td>-148358438.665 .. -4948068.07329</td><td>2.02687360595 .. -11.8444120581</td><td>148641604.986 .. 5197123.70117</td></tr>\n",
       "<tr><td>1110</td><td>54220.0745983</td><td>54220.0745983</td><td>1.166</td><td>884.0</td><td>gbt</td><td>{&apos;be&apos;: &apos;GASP&apos;, &apos;B&apos;: 820, &apos;name&apos;: &apos;54220.000001.1.000.000.tsum&apos;, &apos;tobs&apos;: 1260.406, &apos;format&apos;: &apos;Tempo2&apos;, &apos;clkcorr&apos;: &lt;Quantity 2.736286251606299e-05 s&gt;, &apos;pta&apos;: &apos;NANOGrav&apos;, &apos;chanid&apos;: &apos;gasp_884&apos;, &apos;bw&apos;: 4.0, &apos;fe&apos;: &apos;Rcvr_800&apos;, &apos;proc&apos;: &apos;dfg+12&apos;}</td><td>54220.0753527</td><td>54220.0753527</td><td>-116403947.046 .. -37668128.3315</td><td>18.2578746496 .. -9.2109264497</td><td>116656811.953 .. 37924088.0231</td></tr>\n",
       "<tr><td>1111</td><td>54462.4112313</td><td>54462.4112313</td><td>0.522</td><td>884.0</td><td>gbt</td><td>{&apos;be&apos;: &apos;GASP&apos;, &apos;B&apos;: 820, &apos;name&apos;: &apos;54462.000003.1.000.000.tsum&apos;, &apos;tobs&apos;: 1800.58, &apos;format&apos;: &apos;Tempo2&apos;, &apos;clkcorr&apos;: &lt;Quantity 2.7342661775011974e-05 s&gt;, &apos;pta&apos;: &apos;NANOGrav&apos;, &apos;chanid&apos;: &apos;gasp_884&apos;, &apos;bw&apos;: 4.0, &apos;fe&apos;: &apos;Rcvr_800&apos;, &apos;proc&apos;: &apos;dfg+12&apos;}</td><td>54462.4119857</td><td>54462.4119857</td><td>-15767341.4053 .. 58464542.2746</td><td>-30.204532014 .. -1.31048296253</td><td>15794127.2879 .. -58179754.6514</td></tr>\n",
       "<tr><td>1112</td><td>54576.0956649</td><td>54576.0956649</td><td>0.655</td><td>884.0</td><td>gbt</td><td>{&apos;be&apos;: &apos;GASP&apos;, &apos;B&apos;: 820, &apos;name&apos;: &apos;54576.000005.1.000.000.tsum&apos;, &apos;tobs&apos;: 2160.696, &apos;format&apos;: &apos;Tempo2&apos;, &apos;clkcorr&apos;: &lt;Quantity 2.7387951273219085e-05 s&gt;, &apos;pta&apos;: &apos;NANOGrav&apos;, &apos;chanid&apos;: &apos;gasp_884&apos;, &apos;bw&apos;: 4.0, &apos;fe&apos;: &apos;Rcvr_800&apos;, &apos;proc&apos;: &apos;dfg+12&apos;}</td><td>54576.0964193</td><td>54576.0964193</td><td>-129895474.683 .. -29845052.5765</td><td>14.4078769646 .. -10.2727131842</td><td>129812585.55 .. 30132361.2694</td></tr>\n",
       "</table>"
      ],
      "text/plain": [
       "<Table length=1113>\n",
       "index      mjd      ...         obs_sun_pos [3]         \n",
       "                    ...                km               \n",
       "int64     object    ...             float64             \n",
       "----- ------------- ... --------------------------------\n",
       "    0 53679.5461991 ... -108207151.113 .. -40345731.3662\n",
       "    1 53736.3881392 ...   27417352.8341 .. -57493332.151\n",
       "    2 53736.3881392 ...  27417352.8176 .. -57493332.1523\n",
       "    3  53679.546199 ...  -108207151.135 .. -40345731.357\n",
       "    4 53736.3881392 ...  27417352.8017 .. -57493332.1535\n",
       "    5 53679.5461991 ... -108207151.082 .. -40345731.3788\n",
       "    6 53736.3881392 ...  27417352.8774 .. -57493332.1478\n",
       "    7 53679.5461991 ... -108207151.093 .. -40345731.3744\n",
       "    8 53736.3881392 ...  27417352.8621 .. -57493332.1489\n",
       "  ...           ... ...                              ...\n",
       " 1103 54707.7420285 ...  -138659654.001 .. 23830868.2657\n",
       " 1104  54765.578581 ... -124132174.912 .. -32561042.5284\n",
       " 1105 54794.5032222 ... -68273327.7529 .. -52091067.9039\n",
       " 1106 54013.6397142 ... -146227728.023 .. -12535576.8711\n",
       " 1107 54035.5774928 ... -123370451.196 .. -33000464.0716\n",
       " 1108 54072.4770067 ... -47851992.9584 .. -55482886.6291\n",
       " 1109 54185.1687421 ...   148641604.986 .. 5197123.70117\n",
       " 1110 54220.0745983 ...   116656811.953 .. 37924088.0231\n",
       " 1111 54462.4112313 ...  15794127.2879 .. -58179754.6514\n",
       " 1112 54576.0956649 ...    129812585.55 .. 30132361.2694"
      ]
     },
     "execution_count": 13,
     "metadata": {},
     "output_type": "execute_result"
    }
   ],
   "source": [
    "t.table"
   ]
  },
  {
   "cell_type": "code",
   "execution_count": 17,
   "metadata": {},
   "outputs": [
    {
     "name": "stderr",
     "output_type": "stream",
     "text": [
      "WARNING: Unrecognized parfile line 'EPHVER         5' [pint.models.timing_model]\n",
      "WARNING: Unrecognized parfile line 'MODE 1' [pint.models.timing_model]\n",
      "WARNING: Unrecognized parfile line 'NE_SW          0.000' [pint.models.timing_model]\n",
      "WARNING: Unrecognized parfile line 'CHI2R          1.2076 1021' [pint.models.timing_model]\n",
      "WARNING: Unrecognized parfile line 'PLANET_SHAPIRO2 N' [pint.models.timing_model]\n"
     ]
    }
   ],
   "source": [
    "m = models.get_model(par)"
   ]
  },
  {
   "cell_type": "code",
   "execution_count": 22,
   "metadata": {},
   "outputs": [
    {
     "data": {
      "text/plain": [
       "{'AstrometryEquatorial': <pint.models.astrometry.AstrometryEquatorial at 0x1195344d0>,\n",
       " 'BinaryELL1': <pint.models.binary_ell1.BinaryELL1 at 0x119534fd0>,\n",
       " 'DispersionDMX': <pint.models.dispersion_model.DispersionDMX at 0x1196f3210>,\n",
       " 'JumpDelay': <pint.models.jump.JumpDelay at 0x1196cf190>,\n",
       " 'SolarSystemShapiro': <pint.models.solar_system_shapiro.SolarSystemShapiro at 0x119528790>,\n",
       " 'Spindown': <pint.models.spindown.Spindown at 0x1196f3050>}"
      ]
     },
     "execution_count": 22,
     "metadata": {},
     "output_type": "execute_result"
    }
   ],
   "source": [
    "m.components"
   ]
  },
  {
   "cell_type": "code",
   "execution_count": 24,
   "metadata": {},
   "outputs": [
    {
     "data": {
      "text/plain": [
       "[<pint.models.astrometry.AstrometryEquatorial at 0x1195344d0>,\n",
       " <pint.models.jump.JumpDelay at 0x1196cf190>,\n",
       " <pint.models.solar_system_shapiro.SolarSystemShapiro at 0x119528790>,\n",
       " <pint.models.dispersion_model.DispersionDMX at 0x1196f3210>,\n",
       " <pint.models.binary_ell1.BinaryELL1 at 0x119534fd0>]"
      ]
     },
     "execution_count": 24,
     "metadata": {},
     "output_type": "execute_result"
    }
   ],
   "source": [
    "m.DelayComponent_list # models for delay"
   ]
  },
  {
   "cell_type": "code",
   "execution_count": 25,
   "metadata": {},
   "outputs": [
    {
     "data": {
      "text/plain": [
       "[<pint.models.spindown.Spindown at 0x1196f3050>]"
      ]
     },
     "execution_count": 25,
     "metadata": {},
     "output_type": "execute_result"
    }
   ],
   "source": [
    "m.PhaseComponent_list # models for phase"
   ]
  },
  {
   "cell_type": "code",
   "execution_count": 49,
   "metadata": {},
   "outputs": [
    {
     "data": {
      "text/plain": [
       "[<matplotlib.lines.Line2D at 0x11b345e50>]"
      ]
     },
     "execution_count": 49,
     "metadata": {},
     "output_type": "execute_result"
    },
    {
     "data": {
      "image/png": "[encoded data removed]",
      "text/plain": [
       "<matplotlib.figure.Figure at 0x11b13fed0>"
      ]
     },
     "metadata": {},
     "output_type": "display_data"
    }
   ],
   "source": [
    "plt.plot(t.get_mjds(),m.delay(t.table),\"gx\") # delay in seconds"
   ]
  },
  {
   "cell_type": "code",
   "execution_count": 64,
   "metadata": {},
   "outputs": [],
   "source": [
    "dmdelay=m.delay_funcs[3](t.table)\n",
    "jump=m.delay_funcs[1](t.table)\n",
    "astro=m.delay_funcs[0](t.table)\n",
    "shapiro=m.delay_funcs[2](t.table)\n",
    "binary=m.delay_funcs[4](t.table,None)"
   ]
  },
  {
   "cell_type": "code",
   "execution_count": 66,
   "metadata": {
    "collapsed": true
   },
   "outputs": [
    {
     "data": {
      "image/png": "[encoded data removed]",
      "text/plain": [
       "<matplotlib.figure.Figure at 0x11aaf0a90>"
      ]
     },
     "metadata": {},
     "output_type": "display_data"
    },
    {
     "data": {
      "image/png": "[encoded data removed]",
      "text/plain": [
       "<matplotlib.figure.Figure at 0x11be6f410>"
      ]
     },
     "metadata": {},
     "output_type": "display_data"
    },
    {
     "data": {
      "image/png": "[encoded data removed]",
      "text/plain": [
       "<matplotlib.figure.Figure at 0x118143dd0>"
      ]
     },
     "metadata": {},
     "output_type": "display_data"
    },
    {
     "data": {
      "image/png": "[encoded data removed]",
      "text/plain": [
       "<matplotlib.figure.Figure at 0x1180ef8d0>"
      ]
     },
     "metadata": {},
     "output_type": "display_data"
    },
    {
     "data": {
      "text/plain": [
       "[<matplotlib.lines.Line2D at 0x11908bbd0>]"
      ]
     },
     "execution_count": 66,
     "metadata": {},
     "output_type": "execute_result"
    },
    {
     "data": {
      "image/png": "[encoded data removed]",
      "text/plain": [
       "<matplotlib.figure.Figure at 0x118260410>"
      ]
     },
     "metadata": {},
     "output_type": "display_data"
    }
   ],
   "source": [
    "plt.plot(t.get_mjds(),dmdelay,\"g.\")\n",
    "plt.show()\n",
    "plt.plot(t.get_mjds(),jump,\"r.\")\n",
    "plt.show()\n",
    "plt.plot(t.get_mjds(),astro,'b.')\n",
    "plt.show()\n",
    "plt.plot(t.get_mjds(),shapiro,'y.')\n",
    "plt.show()\n",
    "plt.plot(t.get_mjds(),binary,'g.')"
   ]
  },
  {
   "cell_type": "code",
   "execution_count": 72,
   "metadata": {},
   "outputs": [],
   "source": [
    "spindown=m.phase(t.table)"
   ]
  },
  {
   "cell_type": "code",
   "execution_count": 73,
   "metadata": {
    "collapsed": true
   },
   "outputs": [
    {
     "data": {
      "text/plain": [
       "Phase(int=<Column name='tdbld' dtype='float128' length=1113>\n",
       "-15252672984.0\n",
       "-13648639087.0\n",
       "-13648639087.0\n",
       "-15252672984.0\n",
       "-13648639087.0\n",
       "-15252672983.0\n",
       "-13648639086.0\n",
       "-15252672983.0\n",
       "-13648639086.0\n",
       "-13648639086.0\n",
       "-13648639086.0\n",
       "-13648639086.0\n",
       "           ...\n",
       " 10046261179.0\n",
       " 11875489647.0\n",
       " 13761094690.0\n",
       " 15393282906.0\n",
       " 16209538660.0\n",
       " -5825195727.0\n",
       " -5206097687.0\n",
       " -4164795652.0\n",
       "  -984964651.0\n",
       "      -64235.0\n",
       "  6838491384.0\n",
       " 10046261180.0, frac=<Column name='tdbld' dtype='float128' length=1113>\n",
       " -0.30437993072\n",
       "-0.298594903201\n",
       "-0.301786321215\n",
       "-0.302161723375\n",
       "-0.302054050379\n",
       "-0.302229061723\n",
       "-0.302137450315\n",
       " -0.30247573182\n",
       "-0.301785666496\n",
       "-0.301786184311\n",
       "-0.301786172204\n",
       "-0.301786180586\n",
       "            ...\n",
       "-0.300444311462\n",
       "-0.300863753073\n",
       "-0.301933054812\n",
       "-0.302357912995\n",
       "-0.302537594922\n",
       "-0.302549974993\n",
       "-0.302267733961\n",
       "-0.302308791317\n",
       "-0.299584433436\n",
       "-0.300780046731\n",
       "-0.301654393785\n",
       "-0.300581091084)"
      ]
     },
     "execution_count": 73,
     "metadata": {},
     "output_type": "execute_result"
    }
   ],
   "source": [
    "spindown"
   ]
  },
  {
   "cell_type": "code",
   "execution_count": 86,
   "metadata": {},
   "outputs": [],
   "source": [
    "r=res.resids(t,m)"
   ]
  },
  {
   "cell_type": "code",
   "execution_count": 96,
   "metadata": {},
   "outputs": [],
   "source": [
    "RES=r.time_resids"
   ]
  },
  {
   "cell_type": "code",
   "execution_count": 104,
   "metadata": {},
   "outputs": [
    {
     "data": {
      "image/png": "[encoded data removed]",
      "text/plain": [
       "<matplotlib.figure.Figure at 0x11cac9fd0>"
      ]
     },
     "metadata": {},
     "output_type": "display_data"
    }
   ],
   "source": [
    "plt.plot(t.get_mjds(),r.time_resids,\"*\") # y axis is in seconds\n",
    "plt.errorbar(t.get_mjds(),RES.to(u.us).value,yerr=t.get_errors(),fmt='*') # errors in TOAs in microseconds\n",
    "plt.show()\n",
    "# always check for correct units when generating error bars"
   ]
  },
  {
   "cell_type": "code",
   "execution_count": 108,
   "metadata": {
    "collapsed": true
   },
   "outputs": [],
   "source": [
    "fit=wls(t,m)"
   ]
  },
  {
   "cell_type": "code",
   "execution_count": 113,
   "metadata": {},
   "outputs": [],
   "source": [
    "temp=fit.resids.time_resids"
   ]
  },
  {
   "cell_type": "code",
   "execution_count": 11,
   "metadata": {
    "collapsed": true
   },
   "outputs": [],
   "source": [
    "why = 4"
   ]
  },
  {
   "cell_type": "code",
   "execution_count": 12,
   "metadata": {},
   "outputs": [
    {
     "name": "stdout",
     "output_type": "stream",
     "text": [
      "1.97074435169e-05 s\n"
     ]
    }
   ],
   "source": [
    "why *= (c.G * u.solMass/c.c**3).to(u.second)\n",
    "print why"
   ]
  },
  {
   "cell_type": "code",
   "execution_count": 166,
   "metadata": {},
   "outputs": [],
   "source": [
    "fit.model.PMRA.value += 20*fit.model.PMRA.uncertainty_value # RA as a numerical value"
   ]
  },
  {
   "cell_type": "code",
   "execution_count": 180,
   "metadata": {},
   "outputs": [
    {
     "data": {
      "text/plain": [
       "<Container object of 3 artists>"
      ]
     },
     "execution_count": 180,
     "metadata": {},
     "output_type": "execute_result"
    },
    {
     "data": {
      "image/png": "[encoded data removed]",
      "text/plain": [
       "<matplotlib.figure.Figure at 0x11ebd7f50>"
      ]
     },
     "metadata": {},
     "output_type": "display_data"
    }
   ],
   "source": [
    "fit.update_resids()\n",
    "temp=fit.resids.time_resids\n",
    "plt.errorbar(t.get_mjds(),temp.to(u.us).value,yerr=t.get_errors(),fmt='*') # errors in TOAs in microseconds\n",
    "# resids get worse because the RA changed \n",
    "# BUT they were changed back to normal with fit.reset_model()"
   ]
  },
  {
   "cell_type": "code",
   "execution_count": 159,
   "metadata": {
    "collapsed": true
   },
   "outputs": [],
   "source": [
    "fit.reset_model()"
   ]
  },
  {
   "cell_type": "code",
   "execution_count": 147,
   "metadata": {},
   "outputs": [
    {
     "data": {
      "text/plain": [
       "8.3315289370467500003e-06"
      ]
     },
     "execution_count": 147,
     "metadata": {},
     "output_type": "execute_result"
    }
   ],
   "source": [
    "fit.model.RAJ.uncertainty_value"
   ]
  },
  {
   "cell_type": "code",
   "execution_count": 169,
   "metadata": {},
   "outputs": [
    {
     "data": {
      "text/plain": [
       "0.06420322529897886"
      ]
     },
     "execution_count": 169,
     "metadata": {},
     "output_type": "execute_result"
    }
   ],
   "source": [
    "fit.model.PMRA.uncertainty_value # proper motion in RA "
   ]
  },
  {
   "cell_type": "code",
   "execution_count": 168,
   "metadata": {},
   "outputs": [
    {
     "data": {
      "text/plain": [
       "3.1370636942509833"
      ]
     },
     "execution_count": 168,
     "metadata": {},
     "output_type": "execute_result"
    }
   ],
   "source": [
    "fit.model.PMRA.value"
   ]
  },
  {
   "cell_type": "code",
   "execution_count": 172,
   "metadata": {
    "collapsed": true
   },
   "outputs": [],
   "source": [
    "fit.set_fitparams('PMRA')"
   ]
  },
  {
   "cell_type": "code",
   "execution_count": 175,
   "metadata": {},
   "outputs": [
    {
     "data": {
      "text/plain": [
       "{'PMRA': <pint.models.parameter.floatParameter at 0x11e939a10>}"
      ]
     },
     "execution_count": 175,
     "metadata": {},
     "output_type": "execute_result"
    }
   ],
   "source": [
    "fit.get_fitparams()"
   ]
  },
  {
   "cell_type": "code",
   "execution_count": 178,
   "metadata": {},
   "outputs": [
    {
     "data": {
      "text/plain": [
       "1232.9947377170597935"
      ]
     },
     "execution_count": 178,
     "metadata": {},
     "output_type": "execute_result"
    }
   ],
   "source": [
    "fit.fit_toas() # this is the chi squared value for the residuals"
   ]
  },
  {
   "cell_type": "code",
   "execution_count": 179,
   "metadata": {},
   "outputs": [
    {
     "data": {
      "text/plain": [
       "1.6934163076630897"
      ]
     },
     "execution_count": 179,
     "metadata": {},
     "output_type": "execute_result"
    }
   ],
   "source": [
    "fit.model.PMRA.value # this changed from ~ 3.13 "
   ]
  },
  {
   "cell_type": "code",
   "execution_count": 182,
   "metadata": {},
   "outputs": [
    {
     "data": {
      "text/plain": [
       "1.6924911250239592"
      ]
     },
     "execution_count": 182,
     "metadata": {},
     "output_type": "execute_result"
    }
   ],
   "source": [
    "fit.model_init.PMRA.value # note this is close to fit.model.PMRA.value"
   ]
  },
  {
   "cell_type": "code",
   "execution_count": 19,
   "metadata": {},
   "outputs": [
    {
     "data": {
      "text/plain": [
       "6.2288820316111115"
      ]
     },
     "execution_count": 19,
     "metadata": {},
     "output_type": "execute_result"
    }
   ],
   "source": [
    "m.RAJ."
   ]
  },
  {
   "cell_type": "code",
   "execution_count": null,
   "metadata": {
    "collapsed": true
   },
   "outputs": [],
   "source": []
  }
 ],
 "metadata": {
  "kernelspec": {
   "display_name": "Python 3",
   "language": "python",
   "name": "python3"
  },
  "language_info": {
   "codemirror_mode": {
    "name": "ipython",
    "version": 3
   },
   "file_extension": ".py",
   "mimetype": "text/x-python",
   "name": "python",
   "nbconvert_exporter": "python",
   "pygments_lexer": "ipython3",
   "version": "3.6.1"
  }
 },
 "nbformat": 4,
 "nbformat_minor": 2
}
