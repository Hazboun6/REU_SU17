{
 "cells": [
  {
   "cell_type": "code",
   "execution_count": 16,
   "metadata": {
    "collapsed": false
   },
   "outputs": [
    {
     "name": "stdout",
     "output_type": "stream",
     "text": [
      "The autoreload extension is already loaded. To reload it, use:\n",
      "  %reload_ext autoreload\n"
     ]
    }
   ],
   "source": [
    "import numpy as np\n",
    "import matplotlib.pyplot as plt\n",
    "% matplotlib inline\n",
    "%load_ext autoreload\n",
    "%autoreload 2\n",
    "import sys\n",
    "sys.path.append('/Users/Poop/REU/VersionZeroPointZero')\n",
    "sys.path.append('/Users/Poop/REU/VersionZeroPointZero')\n",
    "import signal as sig\n",
    "import math, scipy\n",
    "import scipy as sp\n",
    "from scipy import signal"
   ]
  },
  {
   "cell_type": "code",
   "execution_count": 40,
   "metadata": {
    "collapsed": false
   },
   "outputs": [
    {
     "data": {
      "text/plain": [
       "numpy.ndarray"
      ]
     },
     "execution_count": 40,
     "metadata": {},
     "output_type": "execute_result"
    },
    {
     "data": {
      "image/png": "[encoded data removed]",
      "text/plain": [
       "<matplotlib.figure.Figure at 0x116d57b90>"
      ]
     },
     "metadata": {},
     "output_type": "display_data"
    }
   ],
   "source": [
    "a = np.asarray(np.arange(0,1e4))\n",
    "gauss = np.exp(-(a-5000)**2/4096.0)\n",
    "plt.plot(gauss)\n",
    "type(gauss)"
   ]
  },
  {
   "cell_type": "code",
   "execution_count": 29,
   "metadata": {
    "collapsed": false
   },
   "outputs": [
    {
     "data": {
      "image/png": "[encoded data removed]",
      "text/plain": [
       "<matplotlib.figure.Figure at 0x116a1d750>"
      ]
     },
     "metadata": {},
     "output_type": "display_data"
    }
   ],
   "source": [
    "transform = np.fft.rfft(gauss)\n",
    "plt.plot(transform)\n",
    "length = len(transform)"
   ]
  },
  {
   "cell_type": "code",
   "execution_count": 49,
   "metadata": {
    "collapsed": false
   },
   "outputs": [],
   "source": [
    "def Disperse(signal,f0,DM,dt,boundary):\n",
    "    # signal = array_like, not taken RFFT of yet (so in time space)\n",
    "    # f0 = integer or float, central frequency, to be put into transfer function (in frequency space)\n",
    "    # DM = integer or float, dispersion measure (in funky units that don't really matter here)\n",
    "    # d = integer, time interval between two measurements of the signal/sample spacing (in time space)\n",
    "    # boundary = integer, values to look at outside of the central frequency\n",
    "    #if f0 < 400e6 or f0 > 2e9:\n",
    "    #    raise ValueError('The central frequency must be in units of Hz!')\n",
    "    #if type(signal) != 'np.ndarray' or 'list':\n",
    "    #    raise TypeError('The signal must be an array or list of values!')\n",
    "    #if type(f0) != 'float' or 'int':\n",
    "    #    raise TypeError('The central frequency must be a number!')\n",
    "    #if type(dt) != 'int':\n",
    "    #    raise TypeError('The sample spacing dt must be an integer!')\n",
    "    #if type(boundary) != 'int':\n",
    "    #    raise TypeError('The boundary must be an integer!')\n",
    "    #if type(DM) != 'int' or 'float':\n",
    "    #    raise TypeError('The dispersion measure must be a number!')\n",
    "    #TODO include some warning if d takes on certain values which would indicate the user isn't putting \n",
    "    # in values which have units of seconds\n",
    "    Fourier = np.fft.rfft(signal)\n",
    "    length = len(Fourier)\n",
    "    values = np.linspace(-boundary,boundary,len(Fourier))\n",
    "    frequencies = np.fft.rfftfreq(2*len(values)-1, d=dt)\n",
    "    TransferFunction = np.exp(1j*2*np.pi*4.148808e18/((frequencies+f0)*f0**2)*DM*frequencies**2)\n",
    "    Shifted = TransferFunction*Fourier\n",
    "    Dispersed = np.fft.irfft(Shifted)\n",
    "    plt.plot(Dispersed)   \n",
    "    print length\n",
    "    print values\n",
    "    print frequencies\n",
    "    print TransferFunction\n",
    "    print Shifted"
   ]
  },
  {
   "cell_type": "code",
   "execution_count": 51,
   "metadata": {
    "collapsed": false
   },
   "outputs": [
    {
     "name": "stdout",
     "output_type": "stream",
     "text": [
      "5001\n",
      "[ -1.00000000e+10  -9.99600000e+09  -9.99200000e+09 ...,   9.99200000e+09\n",
      "   9.99600000e+09   1.00000000e+10]\n",
      "[  0.00000000e+00   9.99900010e-05   1.99980002e-04 ...,   4.99750025e-01\n",
      "   4.99850015e-01   4.99950005e-01]\n",
      "[ 1. +0.00000000e+00j  1. +9.45376471e-20j  1. +3.78150588e-19j ...,\n",
      "  1. +2.36155080e-12j  1. +2.36249590e-12j  1. +2.36344118e-12j]\n",
      "[  1.13437046e+02 +0.00000000e+00j  -1.13391198e+02 +1.61352360e-14j\n",
      "   1.13253763e+02 -7.13199948e-15j ...,  -7.10542736e-15 +5.41243889e-16j\n",
      "   2.78481931e-27 -1.17876154e-15j   0.00000000e+00 +0.00000000e+00j]\n"
     ]
    },
    {
     "data": {
      "image/png": "[encoded data removed]",
      "text/plain": [
       "<matplotlib.figure.Figure at 0x117207bd0>"
      ]
     },
     "metadata": {},
     "output_type": "display_data"
    }
   ],
   "source": [
    "Disperse(gauss,820e8,200,1,100e8)"
   ]
  },
  {
   "cell_type": "code",
   "execution_count": null,
   "metadata": {
    "collapsed": true
   },
   "outputs": [],
   "source": []
  }
 ],
 "metadata": {
  "kernelspec": {
   "display_name": "Python 2",
   "language": "python",
   "name": "python2"
  },
  "language_info": {
   "codemirror_mode": {
    "name": "ipython",
    "version": 2
   },
   "file_extension": ".py",
   "mimetype": "text/x-python",
   "name": "python",
   "nbconvert_exporter": "python",
   "pygments_lexer": "ipython2",
   "version": "2.7.13"
  }
 },
 "nbformat": 4,
 "nbformat_minor": 2
}
