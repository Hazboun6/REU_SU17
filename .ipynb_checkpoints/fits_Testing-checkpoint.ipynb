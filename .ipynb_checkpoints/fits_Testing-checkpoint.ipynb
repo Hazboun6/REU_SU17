{
 "cells": [
  {
   "cell_type": "code",
   "execution_count": 1,
   "metadata": {
    "collapsed": true
   },
   "outputs": [],
   "source": [
    "import numpy as np\n",
    "import fitsio as F\n",
    "from fitsio import FITS, FITSHDR"
   ]
  },
  {
   "cell_type": "code",
   "execution_count": 2,
   "metadata": {
    "collapsed": true
   },
   "outputs": [],
   "source": [
    "filename ='puppi_57754_J2305+3100_0718_0001.fits'\n",
    "data = F.read(filename)"
   ]
  },
  {
   "cell_type": "code",
   "execution_count": 3,
   "metadata": {
    "collapsed": false
   },
   "outputs": [],
   "source": [
    "h = F.read_header(filename)"
   ]
  },
  {
   "cell_type": "code",
   "execution_count": 4,
   "metadata": {
    "collapsed": false
   },
   "outputs": [
    {
     "data": {
      "text/plain": [
       "\n",
       "SIMPLE  =                    T / file does conform to FITS standard\n",
       "BITPIX  =                    8 / number of bits per data pixel\n",
       "NAXIS   =                    0 / number of data axes\n",
       "EXTEND  =                    T / FITS dataset may contain extensions\n",
       "COMMENT   FITS (Flexible Image Transport System) format is defined in 'Astronomy\n",
       "COMMENT   and Astrophysics', volume 376, page 359; bibcode: 2001A&A...376..359H\n",
       "HDRVER  = '3.4             '   / Header version\n",
       "FITSTYPE= 'PSRFITS '           / FITS definition for pulsar data files\n",
       "DATE    = '2017-01-01T20:08:41' / File creation date (YYYY-MM-DDThh:mm:ss UTC)\n",
       "OBSERVER= 'CodyJessup'         / Observer name(s)\n",
       "PROJID  = 'p3077   '           / Project name\n",
       "TELESCOP= 'Arecibo '           / Telescope name\n",
       "ANT_X   =            882589.65 / [m] Antenna ITRF X-coordinate (D)\n",
       "ANT_Y   =          -4924872.32 / [m] Antenna ITRF Y-coordinate (D)\n",
       "ANT_Z   =          3943729.348 / [m] Antenna ITRF Z-coordinate (D)\n",
       "FRONTEND= 'lbw     '           / Rx and feed ID\n",
       "NRCVR   =                    2 / Number of receiver polarisation channels\n",
       "FD_POLN = 'LIN     '           / LIN or CIRC\n",
       "FD_HAND =                   -1 / +/- 1. +1 is LIN:A=X,B=Y, CIRC:A=L,B=R (I)\n",
       "FD_SANG =                  45. / [deg] FA of E vect for equal sig in A&B (E)\n",
       "FD_XYPH =                   0. / [deg] Phase of A^* B for injected cal (E)\n",
       "BACKEND = 'PUPPI   '           / Backend ID\n",
       "BECONFIG= 'N/A     '           / Backend configuration file name\n",
       "BE_PHASE=                   -1 / 0/+1/-1 BE cross-phase:0 unknown,+/-1 std/rev\n",
       "BE_DCC  =                    0 / 0/1 BE downconversion conjugation corrected\n",
       "BE_DELAY=                   0. / [s] Backend propn delay from digitiser input\n",
       "TCYCLE  =                   0. / [s] On-line cycle time (D)\n",
       "OBS_MODE= 'SEARCH  '           / (PSR, CAL, SEARCH)\n",
       "DATE-OBS= '2017-01-01T20:08:38.000' / Date of observation (YYYY-MM-DDThh:mm:ss U\n",
       "OBSFREQ =                1380. / [MHz] Centre frequency for observation\n",
       "OBSBW   =                -800. / [MHz] Bandwidth for observation\n",
       "OBSNCHAN=                 2048 / Number of frequency channels (original)\n",
       "CHAN_DM =                   0. / DM used to de-disperse each channel (pc/cm^3)\n",
       "SRC_NAME= 'J2305+3100'         / Source or scan ID\n",
       "COORD_MD= 'J2000   '           / Coordinate mode (J2000, GAL, ECLIP, etc.)\n",
       "EQUINOX =                2000. / Equinox of coords (e.g. 2000.0)\n",
       "RA      = '23:05:58.3239'      / Right ascension (hh:mm:ss.ssss)\n",
       "DEC     = '+31:00:01.8007'     / Declination (-dd:mm:ss.sss)\n",
       "BMAJ    =                   0. / [deg] Beam major axis length\n",
       "BMIN    =                   0. / [deg] Beam minor axis length\n",
       "BPA     =                   0. / [deg] Beam position angle\n",
       "STT_CRD1= '23:05:58.3239'      / Start coord 1 (hh:mm:ss.sss or ddd.ddd)\n",
       "STT_CRD2= '+31:00:01.8007'     / Start coord 2 (-dd:mm:ss.sss or -dd.ddd)\n",
       "TRK_MODE= 'TRACK   '           / Track mode (TRACK, SCANGC, SCANLAT)\n",
       "STP_CRD1= '23:05:58.3239'      / Stop coord 1 (hh:mm:ss.sss or ddd.ddd)\n",
       "STP_CRD2= '+31:00:01.8007'     / Stop coord 2 (-dd:mm:ss.sss or -dd.ddd)\n",
       "SCANLEN =                  10. / [s] Requested scan length (E)\n",
       "FD_MODE = 'FA      '           / Feed track mode - FA, CPA, SPA, TPA\n",
       "FA_REQ  =                   0. / [deg] Feed/Posn angle requested (E)\n",
       "CAL_MODE= 'OFF     '           / Cal mode (OFF, SYNC, EXT1, EXT2)\n",
       "CAL_FREQ=                   0. / [Hz] Cal modulation frequency (E)\n",
       "CAL_DCYC=                   0. / Cal duty cycle (E)\n",
       "CAL_PHS =                   0. / Cal phase (wrt start time) (E)\n",
       "STT_IMJD=                57754 / Start MJD (UTC days) (J - long integer)\n",
       "STT_SMJD=                72517 / [s] Start time (sec past UTC 00h) (J)\n",
       "STT_OFFS=     0.99999999997226 / [s] Start time offset (D)\n",
       "STT_LST =               77758. / [s] Start LST (D)"
      ]
     },
     "execution_count": 4,
     "metadata": {},
     "output_type": "execute_result"
    }
   ],
   "source": [
    "h"
   ]
  },
  {
   "cell_type": "code",
   "execution_count": 5,
   "metadata": {
    "collapsed": false
   },
   "outputs": [],
   "source": [
    "fits=F.FITS(filename,iter_row_buffer=1000)"
   ]
  },
  {
   "cell_type": "code",
   "execution_count": 6,
   "metadata": {
    "collapsed": false
   },
   "outputs": [
    {
     "ename": "AttributeError",
     "evalue": "'TableHDU' object has no attribute 'size'",
     "output_type": "error",
     "traceback": [
      "\u001b[0;31m---------------------------------------------------------------------------\u001b[0m",
      "\u001b[0;31mAttributeError\u001b[0m                            Traceback (most recent call last)",
      "\u001b[0;32m<ipython-input-6-4eeed998a7bc>\u001b[0m in \u001b[0;36m<module>\u001b[0;34m()\u001b[0m\n\u001b[0;32m----> 1\u001b[0;31m \u001b[0mfits\u001b[0m\u001b[0;34m[\u001b[0m\u001b[0;36m1\u001b[0m\u001b[0;34m]\u001b[0m\u001b[0;34m.\u001b[0m\u001b[0msize\u001b[0m\u001b[0;34m\u001b[0m\u001b[0m\n\u001b[0m",
      "\u001b[0;31mAttributeError\u001b[0m: 'TableHDU' object has no attribute 'size'"
     ]
    }
   ],
   "source": [
    "fits[1].size"
   ]
  },
  {
   "cell_type": "code",
   "execution_count": 7,
   "metadata": {
    "collapsed": false
   },
   "outputs": [
    {
     "data": {
      "text/plain": [
       "(('OFFS_SUB', '>f8'), False)"
      ]
     },
     "execution_count": 7,
     "metadata": {},
     "output_type": "execute_result"
    }
   ],
   "source": [
    "fits[1].get_rec_column_descr(1,2)"
   ]
  },
  {
   "cell_type": "code",
   "execution_count": null,
   "metadata": {
    "collapsed": true
   },
   "outputs": [],
   "source": []
  }
 ],
 "metadata": {
  "anaconda-cloud": {},
  "kernelspec": {
   "display_name": "Python 2",
   "language": "python",
   "name": "python2"
  },
  "language_info": {
   "codemirror_mode": {
    "name": "ipython",
    "version": 2
   },
   "file_extension": ".py",
   "mimetype": "text/x-python",
   "name": "python",
   "nbconvert_exporter": "python",
   "pygments_lexer": "ipython2",
   "version": "2.7.13"
  }
 },
 "nbformat": 4,
 "nbformat_minor": 1
}
