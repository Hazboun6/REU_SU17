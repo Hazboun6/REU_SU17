{
 "cells": [
  {
   "cell_type": "code",
   "execution_count": 57,
   "metadata": {
    "collapsed": true
   },
   "outputs": [],
   "source": [
    "import pint.toa as toa\n",
    "import pint.models as models\n",
    "import matplotlib.pyplot as plt\n",
    "import pint.residuals as res\n",
    "import astropy.units as u\n",
    "import astropy.constants as c\n",
    "from pint.fitter import WlsFitter as wls\n",
    "import pint\n",
    "import numpy as np"
   ]
  },
  {
   "cell_type": "code",
   "execution_count": 2,
   "metadata": {
    "collapsed": true
   },
   "outputs": [],
   "source": [
    "%matplotlib inline"
   ]
  },
  {
   "cell_type": "code",
   "execution_count": 3,
   "metadata": {
    "collapsed": true
   },
   "outputs": [],
   "source": [
    "tim ='PINT/tests/datafile/J0613-0200_NANOGrav_dfg+12.tim'\n",
    "par = 'PINT/tests/datafile/J0613-0200_NANOGrav_dfg+12_TAI_FB90.par'"
   ]
  },
  {
   "cell_type": "code",
   "execution_count": 4,
   "metadata": {},
   "outputs": [
    {
     "name": "stdout",
     "output_type": "stream",
     "text": [
      "INFO: Applying clock corrections. [pint.toa]\n",
      "INFO: Observatory gbt, loading clock file /Users/nearclouding/.local/lib/python3.6/site-packages/pint-0.5.2+188.g956df46.dirty-py3.6-macosx-10.7-x86_64.egg/pint/datafiles/time.dat [pint.observatory.topo_obs]\n",
      "INFO: Observatory gbt, loading GPS clock file /Users/nearclouding/.local/lib/python3.6/site-packages/pint-0.5.2+188.g956df46.dirty-py3.6-macosx-10.7-x86_64.egg/pint/datafiles/gps2utc.clk [pint.observatory.topo_obs]\n",
      "INFO: Observatory gbt, loading BIPM clock file /Users/nearclouding/.local/lib/python3.6/site-packages/pint-0.5.2+188.g956df46.dirty-py3.6-macosx-10.7-x86_64.egg/pint/datafiles/tai2tt_bipm2015.clk [pint.observatory.topo_obs]\n",
      "INFO: Getting IERS params and computing TDBs. [pint.toa]\n",
      "INFO: Computing TDB columns. [pint.toa]\n",
      "INFO: Computing observatory positions and velocities. [pint.toa]\n",
      "INFO: Compute positions and velocities of observatories and Earth (planets = False), using DE405 ephemeris [pint.toa]\n",
      "INFO: Adding columns ssb_obs_pos ssb_obs_vel obs_sun_pos [pint.toa]\n"
     ]
    }
   ],
   "source": [
    "t = toa.get_TOAs(timfile=tim,ephem='DE405') # not including DE405 makes the residuals be all fucky and different"
   ]
  },
  {
   "cell_type": "code",
   "execution_count": 5,
   "metadata": {},
   "outputs": [
    {
     "name": "stderr",
     "output_type": "stream",
     "text": [
      "WARNING: Unrecognized parfile line 'EPHVER         5' [pint.models.timing_model]\n",
      "WARNING: Unrecognized parfile line 'MODE 1' [pint.models.timing_model]\n",
      "WARNING: Unrecognized parfile line 'NE_SW          0.000' [pint.models.timing_model]\n",
      "WARNING: Unrecognized parfile line 'CHI2R          1.2076 1021' [pint.models.timing_model]\n",
      "WARNING: Unrecognized parfile line 'PLANET_SHAPIRO2 N' [pint.models.timing_model]\n"
     ]
    }
   ],
   "source": [
    "m = models.get_model(par)"
   ]
  },
  {
   "cell_type": "code",
   "execution_count": 6,
   "metadata": {
    "collapsed": true
   },
   "outputs": [],
   "source": [
    "#m.components"
   ]
  },
  {
   "cell_type": "code",
   "execution_count": 7,
   "metadata": {
    "collapsed": true
   },
   "outputs": [],
   "source": [
    "#m.DelayComponent_list # models for delay"
   ]
  },
  {
   "cell_type": "code",
   "execution_count": 8,
   "metadata": {
    "collapsed": true
   },
   "outputs": [],
   "source": [
    "#m.PhaseComponent_list # models for phase"
   ]
  },
  {
   "cell_type": "code",
   "execution_count": 9,
   "metadata": {
    "collapsed": true
   },
   "outputs": [],
   "source": [
    "astro=m.delay_funcs[0](t.table)\n",
    "jump=m.delay_funcs[1](t.table)\n",
    "shapiro=m.delay_funcs[2](t.table)\n",
    "dmdelay=m.delay_funcs[3](t.table)\n",
    "binary=m.delay_funcs[4](t.table,None)\n",
    "spindown=m.phase(t.table)"
   ]
  },
  {
   "cell_type": "code",
   "execution_count": 10,
   "metadata": {
    "collapsed": true
   },
   "outputs": [],
   "source": [
    "#plt.plot(t.get_mjds(),dmdelay,\"g.\")\n",
    "#plt.show()\n",
    "#plt.plot(t.get_mjds(),jump,\"r.\")\n",
    "#plt.show()\n",
    "#plt.plot(t.get_mjds(),astro,'b.')\n",
    "#plt.show()\n",
    "#plt.plot(t.get_mjds(),shapiro,'y.')\n",
    "#plt.show()\n",
    "#plt.plot(t.get_mjds(),binary,'g.')"
   ]
  },
  {
   "cell_type": "code",
   "execution_count": 11,
   "metadata": {
    "collapsed": true
   },
   "outputs": [],
   "source": [
    "r=res.resids(t,m)"
   ]
  },
  {
   "cell_type": "code",
   "execution_count": 12,
   "metadata": {
    "collapsed": true
   },
   "outputs": [],
   "source": [
    "RES=r.time_resids"
   ]
  },
  {
   "cell_type": "code",
   "execution_count": 13,
   "metadata": {
    "collapsed": true,
    "scrolled": true
   },
   "outputs": [],
   "source": [
    "#plt.plot(t.get_mjds(),r.time_resids,\"*\") # y axis is in seconds\n",
    "#plt.errorbar(t.get_mjds(),RES.to(u.us).value,yerr=t.get_errors(),fmt='*') # errors in TOAs in microseconds\n",
    "#plt.show()\n",
    "# always check for correct units when generating error bars"
   ]
  },
  {
   "cell_type": "code",
   "execution_count": 14,
   "metadata": {},
   "outputs": [
    {
     "name": "stdout",
     "output_type": "stream",
     "text": [
      "12412.0 solMass\n",
      "3.9683298004425716e-10 s / solMass\n"
     ]
    }
   ],
   "source": [
    "pint.models.GravWave.grav_wave(m)"
   ]
  }
 ],
 "metadata": {
  "kernelspec": {
   "display_name": "Python 3",
   "language": "python",
   "name": "python3"
  },
  "language_info": {
   "codemirror_mode": {
    "name": "ipython",
    "version": 3
   },
   "file_extension": ".py",
   "mimetype": "text/x-python",
   "name": "python",
   "nbconvert_exporter": "python",
   "pygments_lexer": "ipython3",
   "version": "3.6.1"
  }
 },
 "nbformat": 4,
 "nbformat_minor": 2
}
