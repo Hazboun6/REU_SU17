{
 "cells": [
  {
   "cell_type": "code",
   "execution_count": 6,
   "metadata": {
    "collapsed": false
   },
   "outputs": [
    {
     "name": "stdout",
     "output_type": "stream",
     "text": [
      "The autoreload extension is already loaded. To reload it, use:\n",
      "  %reload_ext autoreload\n"
     ]
    }
   ],
   "source": [
    "import numpy as np\n",
    "import matplotlib.pyplot as plt\n",
    "% matplotlib inline\n",
    "%load_ext autoreload\n",
    "%autoreload 2\n",
    "import sys\n",
    "import signal as sig\n",
    "#import pulsar as puls\n",
    "#import ism as ism\n",
    "import math, scipy\n",
    "import scipy as sp\n",
    "from scipy import signal"
   ]
  },
  {
   "cell_type": "code",
   "execution_count": 10,
   "metadata": {
    "collapsed": false
   },
   "outputs": [
    {
     "name": "stdout",
     "output_type": "stream",
     "text": [
      "[ 0.   0.1  0.2  0.3  0.4  0.5]\n",
      "[ 0.          0.16666667  0.33333333  0.5       ]\n",
      "[ 0.          0.09090909  0.18181818  0.27272727  0.36363636  0.45454545]\n"
     ]
    }
   ],
   "source": [
    "sample = [1,2,3,4,5,6,7,8,9,10]\n",
    "testing = np.asarray(sample)\n",
    "print(np.fft.rfftfreq(len(testing)))\n",
    "Q = (np.fft.rfft(sample))\n",
    "iQ = np.fft.irfft(Q)\n",
    "print(np.fft.rfftfreq(len(Q)))\n",
    "sample2 = [0,1,2,3,4,5,6,7,8,9,10]\n",
    "testing2 = np.asarray(sample2)\n",
    "W = np.fft.rfft(sample2)\n",
    "iW = np.fft.irfft(W)\n",
    "print(np.fft.rfftfreq(len(testing2)))"
   ]
  },
  {
   "cell_type": "code",
   "execution_count": 56,
   "metadata": {
    "collapsed": false
   },
   "outputs": [],
   "source": [
    "def shift(array, int):\n",
    "    shifted=[]\n",
    "    for i in array:\n",
    "        shifted.append(i+int)\n",
    "    print(shifted)"
   ]
  },
  {
   "cell_type": "code",
   "execution_count": 57,
   "metadata": {
    "collapsed": false
   },
   "outputs": [
    {
     "name": "stdout",
     "output_type": "stream",
     "text": [
      "[11, 12, 13, 14, 15, 16, 17, 18, 19, 20]\n"
     ]
    }
   ],
   "source": [
    "shift(sample,10)"
   ]
  },
  {
   "cell_type": "code",
   "execution_count": 60,
   "metadata": {
    "collapsed": false
   },
   "outputs": [],
   "source": [
    "z = np.fft.rfftfreq(len(sample))"
   ]
  },
  {
   "cell_type": "code",
   "execution_count": 63,
   "metadata": {
    "collapsed": false
   },
   "outputs": [
    {
     "name": "stdout",
     "output_type": "stream",
     "text": [
      "[1, 2, 3, 4, 5, 6, 7, 8, 9, 10]\n",
      "[ 0.   0.1  0.2  0.3  0.4  0.5]\n",
      "[ 0.   0.1  0.2  0.3  0.4 -0.5 -0.4 -0.3 -0.2 -0.1]\n"
     ]
    }
   ],
   "source": [
    "print sample\n",
    "print np.fft.rfftfreq(len(sample))\n",
    "print np.fft.fftfreq(len(sample))"
   ]
  },
  {
   "cell_type": "code",
   "execution_count": null,
   "metadata": {
    "collapsed": true
   },
   "outputs": [],
   "source": []
  }
 ],
 "metadata": {
  "kernelspec": {
   "display_name": "Python 2",
   "language": "python",
   "name": "python2"
  },
  "language_info": {
   "codemirror_mode": {
    "name": "ipython",
    "version": 2
   },
   "file_extension": ".py",
   "mimetype": "text/x-python",
   "name": "python",
   "nbconvert_exporter": "python",
   "pygments_lexer": "ipython2",
   "version": "2.7.13"
  }
 },
 "nbformat": 4,
 "nbformat_minor": 2
}
