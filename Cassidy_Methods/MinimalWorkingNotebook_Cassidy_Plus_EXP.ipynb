{
 "cells": [
  {
   "cell_type": "code",
   "execution_count": 1,
   "metadata": {
    "collapsed": true
   },
   "outputs": [],
   "source": [
    "%load_ext autoreload\n",
    "%autoreload 2"
   ]
  },
  {
   "cell_type": "code",
   "execution_count": 2,
   "metadata": {
    "collapsed": true
   },
   "outputs": [],
   "source": [
    "import numpy as np\n",
    "import scipy as sp\n",
    "from matplotlib.pyplot import *\n",
    "import matplotlib.pyplot as plt\n",
    "%matplotlib inline\n",
    "import VersionZeroPointZero as PSS\n",
    "from scipy import signal"
   ]
  },
  {
   "cell_type": "markdown",
   "metadata": {},
   "source": [
    "I incorporated your changes, but there were a few typos that I fixed. Some of the pulsar_object and signal_object calls were mixed up, and the syntax for creating the dictionary was incorrect I think."
   ]
  },
  {
   "cell_type": "code",
   "execution_count": 3,
   "metadata": {
    "collapsed": true
   },
   "outputs": [],
   "source": [
    "def DMBroaden(pulsar_object, signal_object, to_DM_Broaden=True):\n",
    "    dm_widths = np.zeros(pulsar_object.Nf)\n",
    "    for ii, freq in enumerate(pulsar_object.Signal_in.freq_Array):\n",
    "        sub_band_width = pulsar_object.bw/pulsar_object.Nf\n",
    "        width = int(PSS.utils.top_hat_width(sub_band_width, freq, 100)//pulsar_object.TimeBinSize)\n",
    "        if width > pulsar_object.Nt:\n",
    "            raise ValueError('Too Much DM! Dispersion broadening top hat wider than data array!')\n",
    "        dm_widths[ii] = width\n",
    "        pulsar_object.profile[ii,:] = sp.convolve(pulsar_object.profile[ii,:], signal.boxcar(width)/width,'same')\n",
    "    Dict = {'dm_widths':dm_widths}\n",
    "    signal_object.MetaData.AddInfo(Dict)"
   ]
  },
  {
   "cell_type": "markdown",
   "metadata": {},
   "source": [
    "Initializing signal, pulse, and ISM."
   ]
  },
  {
   "cell_type": "code",
   "execution_count": 4,
   "metadata": {
    "collapsed": true
   },
   "outputs": [],
   "source": [
    "S1=PSS.Signal(Nt=2000)\n",
    "P1=PSS.Pulsar(S1)\n",
    "I1=PSS.ism.ISM(S1)\n",
    "PSS.ism.ISM.finalize_ism(I1)"
   ]
  },
  {
   "cell_type": "markdown",
   "metadata": {},
   "source": [
    "Just specifying the gaussians to make the plots in this notebook nicer, that way the broadening is more obvious."
   ]
  },
  {
   "cell_type": "code",
   "execution_count": 5,
   "metadata": {
    "collapsed": true
   },
   "outputs": [],
   "source": [
    "peak3 = np.random.randn(20*3)*0.01 + 0.2\n",
    "width3 = abs(np.random.randn(20*3)*0.002 +0.012)\n",
    "amp3 = np.random.randn(20*3)**2\n",
    "peak3.resize(20,3)\n",
    "width3.resize(20,3)\n",
    "amp3.resize(20,3)\n",
    "P1.gauss_template(peak=peak3,width=width3,amp=amp3)"
   ]
  },
  {
   "cell_type": "code",
   "execution_count": 6,
   "metadata": {},
   "outputs": [],
   "source": [
    "#DMBroaden(P1,S1) #Running the method. Make sure to include both the pulse and the signal."
   ]
  },
  {
   "cell_type": "code",
   "execution_count": 7,
   "metadata": {
    "collapsed": true
   },
   "outputs": [],
   "source": [
    "#P1.make_pulses()"
   ]
  },
  {
   "cell_type": "code",
   "execution_count": 8,
   "metadata": {},
   "outputs": [],
   "source": [
    "#plt.plot(P1.signal[5],label=\"Broadened Noisy Signal\")\n",
    "#plt.legend()\n",
    "#plt.show()"
   ]
  },
  {
   "cell_type": "markdown",
   "metadata": {},
   "source": [
    "# Working on convolving with an exponential"
   ]
  },
  {
   "cell_type": "markdown",
   "metadata": {},
   "source": [
    "Define the function that convolves with an exponential"
   ]
  },
  {
   "cell_type": "code",
   "execution_count": 9,
   "metadata": {
    "collapsed": true
   },
   "outputs": [],
   "source": [
    "def Scintillation(pulsar_object, signal_object):\n",
    "    width=499\n",
    "    N_Tau=10\n",
    "    tau_scatter=PSS.scintillation.scale_tau_d(tau_d=10,nu_i=600,nu_f=signal_object.freq_Array)\n",
    "    for i in tau_scatter:\n",
    "        t = np.linspace(0,N_Tau*i,width)\n",
    "        EXP=(np.exp(-t/i))\n",
    "        EXP_sum = np.sum(EXP)\n",
    "        EXP_norm = EXP / EXP_sum\n",
    "        global EXP_func\n",
    "        EXP_func=np.asarray(EXP)\n",
    "    for ii, freq in enumerate(pulsar_object.Signal_in.freq_Array):\n",
    "        pulsar_object.profile[ii,:] = sp.convolve(pulsar_object.profile[ii,:], EXP_func,'same')"
   ]
  },
  {
   "cell_type": "code",
   "execution_count": 10,
   "metadata": {
    "collapsed": true
   },
   "outputs": [],
   "source": [
    "P1.make_pulses()"
   ]
  },
  {
   "cell_type": "code",
   "execution_count": 11,
   "metadata": {},
   "outputs": [
    {
     "data": {
      "image/png": "[encoded data removed]",
      "text/plain": [
       "<matplotlib.figure.Figure at 0x119a7c588>"
      ]
     },
     "metadata": {},
     "output_type": "display_data"
    }
   ],
   "source": [
    "plt.plot(P1.signal[5],label=\"Noisy Signal\")\n",
    "plt.legend()\n",
    "plt.show()"
   ]
  },
  {
   "cell_type": "code",
   "execution_count": 12,
   "metadata": {
    "collapsed": true
   },
   "outputs": [],
   "source": [
    "DMBroaden(P1,S1)\n",
    "Scintillation(P1,S1)"
   ]
  },
  {
   "cell_type": "code",
   "execution_count": 13,
   "metadata": {},
   "outputs": [],
   "source": [
    "P1.make_pulses()"
   ]
  },
  {
   "cell_type": "code",
   "execution_count": 14,
   "metadata": {
    "scrolled": true
   },
   "outputs": [
    {
     "data": {
      "image/png": "[encoded data removed]",
      "text/plain": [
       "<matplotlib.figure.Figure at 0x119a9d4a8>"
      ]
     },
     "metadata": {},
     "output_type": "display_data"
    }
   ],
   "source": [
    "plt.plot(P1.signal[5],label=\"Broadened Noisy Signal\")\n",
    "plt.legend()\n",
    "plt.show()"
   ]
  }
 ],
 "metadata": {
  "anaconda-cloud": {},
  "kernelspec": {
   "display_name": "Python 3",
   "language": "python",
   "name": "python3"
  },
  "language_info": {
   "codemirror_mode": {
    "name": "ipython",
    "version": 3
   },
   "file_extension": ".py",
   "mimetype": "text/x-python",
   "name": "python",
   "nbconvert_exporter": "python",
   "pygments_lexer": "ipython3",
   "version": "3.6.1"
  }
 },
 "nbformat": 4,
 "nbformat_minor": 1
}
