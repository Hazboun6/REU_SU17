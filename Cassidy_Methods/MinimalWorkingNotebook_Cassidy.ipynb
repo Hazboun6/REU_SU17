{
 "cells": [
  {
   "cell_type": "code",
   "execution_count": 1,
   "metadata": {
    "collapsed": true
   },
   "outputs": [],
   "source": [
    "%load_ext autoreload\n",
    "%autoreload 2"
   ]
  },
  {
   "cell_type": "code",
   "execution_count": 4,
   "metadata": {
    "collapsed": false
   },
   "outputs": [],
   "source": [
    "import numpy as np\n",
    "import scipy as sp\n",
    "from matplotlib.pyplot import *\n",
    "import matplotlib.pyplot as plt\n",
    "%matplotlib inline\n",
    "import sys\n",
    "sys.path.append('/Users/jeffrey/GoogleDrive/PulsarSignalSimulator/PulsarSimulator/')\n",
    "import VersionZeroPointZero as PSS\n",
    "from scipy import signal"
   ]
  },
  {
   "cell_type": "markdown",
   "metadata": {},
   "source": [
    "I incorporated your changes, but there were a few typos that I fixed. Some of the pulsar_object and signal_object calls were mixed up, and the syntax for creating the dictionary was incorrect I think."
   ]
  },
  {
   "cell_type": "code",
   "execution_count": 3,
   "metadata": {
    "collapsed": true
   },
   "outputs": [],
   "source": [
    "def DMBroaden(pulsar_object, signal_object, to_DM_Broaden=True):\n",
    "    dm_widths = np.zeros(pulsar_object.Nf)\n",
    "    for ii, freq in enumerate(pulsar_object.Signal_in.freq_Array):\n",
    "        sub_band_width = pulsar_object.bw/pulsar_object.Nf\n",
    "        width = int(PSS.utils.top_hat_width(sub_band_width, freq, signal_object.MetaData.DM)//pulsar_object.TimeBinSize)\n",
    "        if width > pulsar_object.Nt:\n",
    "            raise ValueError('Too Much DM! Dispersion broadening top hat wider than data array!')\n",
    "        dm_widths[ii] = width\n",
    "        pulsar_object.profile[ii,:] = sp.convolve(pulsar_object.profile[ii,:], signal.boxcar(width)/width,'same')\n",
    "    Dict = {'dm_widths':dm_widths}\n",
    "    signal_object.MetaData.AddInfo(Dict)"
   ]
  },
  {
   "cell_type": "markdown",
   "metadata": {},
   "source": [
    "**__Cassidy:__** Hi Cassidy! I wanted to write you some notes here so we can do an iteration of this method. It looks great for the first pass! I don't think that we need the `to_DM_Broaden` flag here. We would probably put this outside of this method and only call the method if that flag was true. That would also get rid of the first `if` statement. \n",
    "\n",
    "Also, I would rename `self1` and `self2` so that we know what they are. I am (and this just my opinion) always in favor of longer descriptive names rather than short ones. In other methods I refer to them as `signal_object` and `pulsar_object`.\n",
    "\n",
    "Lastly the `self` designation doesn't quite work the way you are trying to use it. The `self` is the class object that you are working within, if you are working within a class object. Since this will be a utility method then it won't be within a class, so we can't refer to the object via `self`. Does that make sense? If not then it might help to either watch a quick Python tutorial on classes (there are many) or do some googling for something on StackExchange. It's really evident if you look at some code. \n",
    "\n",
    "Again, this looks really great!"
   ]
  },
  {
   "cell_type": "markdown",
   "metadata": {},
   "source": [
    "**__Cassidy:__**  Here is a version that implements some of things I was talking about. What do you think? \n",
    "``` python\n",
    "def DMBroaden(signal_object, pulsar_object):\n",
    "    dm_widths = np.zeros(self1.Nf)\n",
    "    for ii, freq in enumerate(pulsar_object.Signal_in.freq_Array):\n",
    "        sub_band_width = signal_object.bw/signal_object.Nf\n",
    "        width = int(PSS.utils.top_hat_width(sub_band_width, freq, signal_object.MetaData.DM)//signal_object.TimeBinSize)\n",
    "        if width > signal_object.Nt:\n",
    "            raise ValueError('Too Much DM! Dispersion broadening top hat wider than data array!')\n",
    "        dm_widths[ii] = width\n",
    "        pulsar_object.profile[ii,:] = sp.convolve(pulsar_object.profile[ii,:],\\\n",
    "            signal.boxcar(width)/width,'same')\n",
    "    Dict = {'dm_widths', dm_widths}\n",
    "    signal_object.MetaData.AddInfo(Dict)\n",
    "    #pulsar_object.make_pulses()\n",
    "```\n",
    "**__Cassidy:__** I added in two lines that makes a dictionary with the dm_widths and then adds it to the signal MetaData.\n",
    "\n",
    "I've commented out the last line because the plan is to call that command once we've done everything to the profiles that we want to. We don't want to sample the pulses until we've convolved with an other curves (like an exponential). Does that make sense? "
   ]
  },
  {
   "cell_type": "markdown",
   "metadata": {},
   "source": [
    "Initializing signal, pulse, and ISM."
   ]
  },
  {
   "cell_type": "code",
   "execution_count": 5,
   "metadata": {
    "collapsed": true
   },
   "outputs": [],
   "source": [
    "S1=PSS.Signal(Nt=2000)\n",
    "P1=PSS.Pulsar(S1)\n",
<<<<<<< HEAD
    "I1=PSS.ism.ISM(S1)\n",
    "PSS.ism.ISM.finalize_ism(I1)"
=======
    "I1=PSS.ism.ISM(S1)"
   ]
  },
  {
   "cell_type": "markdown",
   "metadata": {},
   "source": [
    "I couldn't figure out how to call the DM as an attribute of the signal's metadata without actually adding in the ISM_Dict as I did below. And because of the way I went about this, the only way I was able to call a non-NoneType DM was by changing \n",
    "\n",
    "self.ISM_Dict = dict(dispersion=False, scattering=False, DM = None, scintillation=False) \n",
    "\n",
    "from DM = None to DM = 100 (or any number) inside of ism.py. \n",
    "\n",
    "It seems like this AddInfo should be completed inside of both ism.py and pulsar.py so the user doesn't have to call it. Unless of course there was a different way I should have been calling the DM, but this was all I thought made sense."
   ]
  },
  {
   "cell_type": "markdown",
   "metadata": {},
   "source": [
    "**__Cassidy:__** I know that we talked about this already, but I did \"fix\" this issue, I think. The idea is that when you intialize `ISM()` now you can change all the values as you wish, and then when you call `I1.finalize_ism()` it adds all the values to the `Signal.MetaData`, so you should be able to call `Signal.MetaData.DM` to get the DM. I the code above it would be something like `signal_object.MetaData.DM`."
   ]
  },
  {
   "cell_type": "code",
   "execution_count": 5,
   "metadata": {
    "collapsed": true
   },
   "outputs": [],
   "source": [
    "S1.MetaData.AddInfo(I1.ISM_Dict) #DM=100"
>>>>>>> 430ed6d9b35d0dbb3ac3ddc63429fa5a380181a2
   ]
  },
  {
   "cell_type": "markdown",
   "metadata": {},
   "source": [
    "Just specifying the gaussians to make the plots in this notebook nicer, that way the broadening is more obvious."
   ]
  },
  {
   "cell_type": "code",
   "execution_count": 5,
   "metadata": {
    "collapsed": true
   },
   "outputs": [],
   "source": [
    "peak3 = np.random.randn(20*3)*0.01 + 0.2\n",
    "width3 = abs(np.random.randn(20*3)*0.002 +0.012)\n",
    "amp3 = np.random.randn(20*3)**2\n",
    "peak3.resize(20,3)\n",
    "width3.resize(20,3)\n",
    "amp3.resize(20,3)\n",
    "P1.gauss_template(peak=peak3,width=width3,amp=amp3)"
   ]
  },
  {
   "cell_type": "code",
<<<<<<< HEAD
   "execution_count": 6,
   "metadata": {},
   "outputs": [],
=======
   "execution_count": 10,
   "metadata": {
    "collapsed": false
   },
   "outputs": [
    {
     "data": {
      "image/png": "iVBORw0KGgoAAAANSUhEUgAAAYIAAAEACAYAAAC+gnFaAAAABHNCSVQICAgIfAhkiAAAAAlwSFlz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\nCgQiIhGnQCAiEnH/H6d3eiY/mxj3AAAAAElFTkSuQmCC\n",
      "text/plain": [
       "<matplotlib.figure.Figure at 0x1148c0a58>"
      ]
     },
     "metadata": {},
     "output_type": "display_data"
    }
   ],
>>>>>>> 430ed6d9b35d0dbb3ac3ddc63429fa5a380181a2
   "source": [
    "DMBroaden(P1,S1) #Running the method. Make sure to include both the pulse and the signal."
   ]
  },
  {
   "cell_type": "code",
<<<<<<< HEAD
   "execution_count": 7,
=======
   "execution_count": 11,
>>>>>>> 430ed6d9b35d0dbb3ac3ddc63429fa5a380181a2
   "metadata": {
    "collapsed": true
   },
   "outputs": [],
   "source": [
    "P1.make_pulses()"
   ]
  },
  {
   "cell_type": "code",
<<<<<<< HEAD
   "execution_count": 8,
   "metadata": {},
=======
   "execution_count": 12,
   "metadata": {
    "collapsed": false
   },
>>>>>>> 430ed6d9b35d0dbb3ac3ddc63429fa5a380181a2
   "outputs": [
    {
     "data": {
      "image/png": "iVBORw0KGgoAAAANSUhEUgAAAYIAAAEACAYAAAC+gnFaAAAABHNCSVQICAgIfAhkiAAAAAlwSFlz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\nrkJggg==\n",
      "text/plain": [
       "<matplotlib.figure.Figure at 0x110887f28>"
      ]
     },
     "metadata": {},
     "output_type": "display_data"
    }
   ],
   "source": [
    "plt.plot(P1.signal[5],label=\"Broadened Noisy Signal\")\n",
    "plt.legend()\n",
    "plt.show()"
   ]
  }
 ],
 "metadata": {
  "anaconda-cloud": {},
  "kernelspec": {
   "display_name": "Python [default]",
   "language": "python",
   "name": "python3"
  },
  "language_info": {
   "codemirror_mode": {
    "name": "ipython",
    "version": 3
   },
   "file_extension": ".py",
   "mimetype": "text/x-python",
   "name": "python",
   "nbconvert_exporter": "python",
   "pygments_lexer": "ipython3",
   "version": "3.5.2"
  }
 },
 "nbformat": 4,
 "nbformat_minor": 1
}
