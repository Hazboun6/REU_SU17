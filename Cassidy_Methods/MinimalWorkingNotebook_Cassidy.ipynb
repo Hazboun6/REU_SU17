{
 "cells": [
  {
   "cell_type": "code",
   "execution_count": 1,
   "metadata": {
    "collapsed": true
   },
   "outputs": [],
   "source": [
    "%load_ext autoreload\n",
    "%autoreload 2"
   ]
  },
  {
   "cell_type": "code",
   "execution_count": 4,
   "metadata": {
    "collapsed": false
   },
   "outputs": [],
   "source": [
    "import numpy as np\n",
    "import scipy as sp\n",
    "from matplotlib.pyplot import *\n",
    "import matplotlib.pyplot as plt\n",
    "%matplotlib inline\n",
    "import sys\n",
    "sys.path.append('/Users/jeffrey/GoogleDrive/PulsarSignalSimulator/PulsarSimulator/')\n",
    "import VersionZeroPointZero as PSS\n",
    "from scipy import signal"
   ]
  },
  {
   "cell_type": "markdown",
   "metadata": {},
   "source": [
    "To avoid hardcoding the DM, I had to write a function that would call both the signal and the pulse, since the DM is an attribute of the signal once the ISM is initialized. \n",
    "\n",
    "self1 should be the pulse and self2 should be the signal. I don't know if I like this idea that much and I feel like it would be better if we could give the pulse the DM attribute.\n",
    "\n",
    "I changed the convolve function to use the scipy convolve instead of numpy, but I can't notice any differences, so it was mostly to make sure it would work fine. \n",
    "\n",
    "I added the two lines I deleted back in to keep track of the widths."
   ]
  },
  {
   "cell_type": "code",
   "execution_count": 3,
   "metadata": {
    "collapsed": true
   },
   "outputs": [],
   "source": [
    "def DMBroaden(self1, self2, to_DM_Broaden=True):\n",
    "    self1.widths = np.zeros(self1.Nf)\n",
    "    for ii, freq in enumerate(self1.Signal_in.freq_Array):\n",
    "        sub_band_width = self1.bw/self1.Nf\n",
    "        width = int(PSS.utils.top_hat_width(sub_band_width, freq, self2.MetaData.DM)//self1.TimeBinSize)\n",
    "        if width > 0 and to_DM_Broaden:\n",
    "            if width > self1.Nt:\n",
    "                raise ValueError('Too Much DM! Dispersion broadening top hat wider than data array!')\n",
    "            self1.widths[ii] = width\n",
    "            self1.profile[ii,:] = sp.convolve(self1.profile[ii,:], signal.boxcar(width)/width,'same')\n",
    "    self1.make_pulses()"
   ]
  },
  {
   "cell_type": "markdown",
   "metadata": {},
   "source": [
    "**__Cassidy:__** Hi Cassidy! I wanted to write you some notes here so we can do an iteration of this method. It looks great for the first pass! I don't think that we need the `to_DM_Broaden` flag here. We would probably put this outside of this method and only call the method if that flag was true. That would also get rid of the first `if` statement. \n",
    "\n",
    "Also, I would rename `self1` and `self2` so that we know what they are. I am (and this just my opinion) always in favor of longer descriptive names rather than short ones. In other methods I refer to them as `signal_object` and `pulsar_object`.\n",
    "\n",
    "Lastly the `self` designation doesn't quite work the way you are trying to use it. The `self` is the class object that you are working within, if you are working within a class object. Since this will be a utility method then it won't be within a class, so we can't refer to the object via `self`. Does that make sense? If not then it might help to either watch a quick Python tutorial on classes (there are many) or do some googling for something on StackExchange. It's really evident if you look at some code. \n",
    "\n",
    "Again, this looks really great!"
   ]
  },
  {
   "cell_type": "markdown",
   "metadata": {},
   "source": [
    "**__Cassidy:__**  Here is a version that implements some of things I was talking about. What do you think? \n",
    "``` python\n",
    "def DMBroaden(signal_object, pulsar_object):\n",
    "    dm_widths = np.zeros(self1.Nf)\n",
    "    for ii, freq in enumerate(pulsar_object.Signal_in.freq_Array):\n",
    "        sub_band_width = signal_object.bw/signal_object.Nf\n",
    "        width = int(PSS.utils.top_hat_width(sub_band_width, freq, signal_object.MetaData.DM)//signal_object.TimeBinSize)\n",
    "        if width > signal_object.Nt:\n",
    "            raise ValueError('Too Much DM! Dispersion broadening top hat wider than data array!')\n",
    "        dm_widths[ii] = width\n",
    "        pulsar_object.profile[ii,:] = sp.convolve(pulsar_object.profile[ii,:],\\\n",
    "            signal.boxcar(width)/width,'same')\n",
    "    Dict = {'dm_widths', dm_widths}\n",
    "    signal_object.MetaData.AddInfo(Dict)\n",
    "    #pulsar_object.make_pulses()\n",
    "```\n",
    "**__Cassidy:__** I added in two lines that makes a dictionary with the dm_widths and then adds it to the signal MetaData.\n",
    "\n",
    "I've commented out the last line because the plan is to call that command once we've done everything to the profiles that we want to. We don't want to sample the pulses until we've convolved with an other curves (like an exponential). Does that make sense? "
   ]
  },
  {
   "cell_type": "markdown",
   "metadata": {},
   "source": [
    "Initializing signal, pulse, and ISM."
   ]
  },
  {
   "cell_type": "code",
   "execution_count": 5,
   "metadata": {
    "collapsed": true
   },
   "outputs": [],
   "source": [
    "S1=PSS.Signal(Nt=2000)\n",
    "P1=PSS.Pulsar(S1)\n",
    "I1=PSS.ism.ISM(S1)"
   ]
  },
  {
   "cell_type": "markdown",
   "metadata": {},
   "source": [
    "I couldn't figure out how to call the DM as an attribute of the signal's metadata without actually adding in the ISM_Dict as I did below. And because of the way I went about this, the only way I was able to call a non-NoneType DM was by changing \n",
    "\n",
    "self.ISM_Dict = dict(dispersion=False, scattering=False, DM = None, scintillation=False) \n",
    "\n",
    "from DM = None to DM = 100 (or any number) inside of ism.py. \n",
    "\n",
    "It seems like this AddInfo should be completed inside of both ism.py and pulsar.py so the user doesn't have to call it. Unless of course there was a different way I should have been calling the DM, but this was all I thought made sense."
   ]
  },
  {
   "cell_type": "markdown",
   "metadata": {},
   "source": [
    "**__Cassidy:__** I know that we talked about this already, but I did \"fix\" this issue, I think. The idea is that when you intialize `ISM()` now you can change all the values as you wish, and then when you call `I1.finalize_ism()` it adds all the values to the `Signal.MetaData`, so you should be able to call `Signal.MetaData.DM` to get the DM. I the code above it would be something like `signal_object.MetaData.DM`."
   ]
  },
  {
   "cell_type": "code",
   "execution_count": 5,
   "metadata": {
    "collapsed": true
   },
   "outputs": [],
   "source": [
    "S1.MetaData.AddInfo(I1.ISM_Dict) #DM=100"
   ]
  },
  {
   "cell_type": "markdown",
   "metadata": {},
   "source": [
    "Just specifying the gaussians to make the plots in this notebook nicer, that way the broadening is more obvious."
   ]
  },
  {
   "cell_type": "code",
   "execution_count": 9,
   "metadata": {
    "collapsed": true
   },
   "outputs": [],
   "source": [
    "peak3 = np.random.randn(20*3)*0.01 + 0.2\n",
    "width3 = abs(np.random.randn(20*3)*0.002 +0.012)\n",
    "amp3 = np.random.randn(20*3)**2\n",
    "peak3.resize(20,3)\n",
    "width3.resize(20,3)\n",
    "amp3.resize(20,3)\n",
    "P1.gauss_template(peak=peak3,width=width3,amp=amp3)"
   ]
  },
  {
   "cell_type": "code",
   "execution_count": 10,
   "metadata": {
    "collapsed": false
   },
   "outputs": [
    {
     "data": {
      "image/png": "[encoded data removed]",
      "text/plain": [
       "<matplotlib.figure.Figure at 0x1148c0a58>"
      ]
     },
     "metadata": {},
     "output_type": "display_data"
    }
   ],
   "source": [
    "P1.make_pulses()\n",
    "plt.plot(P1.signal[5],label=\"Noisy Signal\")\n",
    "plt.legend()\n",
    "plt.show()"
   ]
  },
  {
   "cell_type": "code",
   "execution_count": 11,
   "metadata": {
    "collapsed": true
   },
   "outputs": [],
   "source": [
    "DMBroaden(P1,S1) #Running the method. Make sure to include both the pulse and the signal."
   ]
  },
  {
   "cell_type": "code",
   "execution_count": 12,
   "metadata": {
    "collapsed": false
   },
   "outputs": [
    {
     "data": {
      "image/png": "[encoded data removed]",
      "text/plain": [
       "<matplotlib.figure.Figure at 0x114817860>"
      ]
     },
     "metadata": {},
     "output_type": "display_data"
    }
   ],
   "source": [
    "plt.plot(P1.signal[5],label=\"Broadened Noisy Signal\")\n",
    "plt.legend()\n",
    "plt.show()"
   ]
  }
 ],
 "metadata": {
  "anaconda-cloud": {},
  "kernelspec": {
   "display_name": "Python [default]",
   "language": "python",
   "name": "python3"
  },
  "language_info": {
   "codemirror_mode": {
    "name": "ipython",
    "version": 3
   },
   "file_extension": ".py",
   "mimetype": "text/x-python",
   "name": "python",
   "nbconvert_exporter": "python",
   "pygments_lexer": "ipython3",
   "version": "3.5.2"
  }
 },
 "nbformat": 4,
 "nbformat_minor": 1
}
