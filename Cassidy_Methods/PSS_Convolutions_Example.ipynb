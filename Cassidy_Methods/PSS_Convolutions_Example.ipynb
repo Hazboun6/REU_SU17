{
 "cells": [
  {
   "cell_type": "markdown",
   "metadata": {},
   "source": [
    "# Convolutions in the PSS"
   ]
  },
  {
   "cell_type": "code",
   "execution_count": 1,
   "metadata": {
    "collapsed": true
   },
   "outputs": [],
   "source": [
    "%load_ext autoreload\n",
    "%autoreload 2"
   ]
  },
  {
   "cell_type": "code",
   "execution_count": 2,
   "metadata": {
    "collapsed": true
   },
   "outputs": [],
   "source": [
    "# import numpy as np\n",
    "# import scipy as sp\n",
    "from matplotlib.pyplot import *\n",
    "import matplotlib.pyplot as plt\n",
    "%matplotlib inline\n",
    "import VersionZeroPointZero as PSS\n",
    "# from scipy import signal"
   ]
  },
  {
   "cell_type": "code",
   "execution_count": 3,
   "metadata": {
    "collapsed": true
   },
   "outputs": [],
   "source": [
    "#Initializing the signal, pulsar, and ISM\n",
    "\n",
    "S1=PSS.Signal(TotTime=2500,f0=800,Nf=100,bw=1120,Nt=25000,mode='simulate')\n",
    "P1=PSS.Pulsar(S1)\n",
    "S1.TimeBinSize=10\n",
    "P1.gamma_scale = 0.8\n",
    "P1.T = 686.7044441199999 #milliseconds\n",
    "peak = [.372,.4]\n",
    "width = [.004,.01]\n",
    "amp = [.55,3]\n",
    "P1.gauss_template(peak=peak,width=width,amp=amp)\n",
    "I1=PSS.ISM(S1,mode='simulate')\n",
    "I1.tau_scatter = 0.5717\n",
    "I1.to_DM_Broaden = False\n",
    "I1.to_Scatter_Broaden_exp = True\n",
    "I1.finalize_ism()"
   ]
  },
  {
   "cell_type": "code",
   "execution_count": 4,
   "metadata": {
    "collapsed": true
   },
   "outputs": [],
   "source": [
    "#Initializing the simulation and executing\n",
    "\n",
    "Sim1 = PSS.Simulation(S1,P1,I1)\n",
    "Sim1.simulate()"
   ]
  },
  {
   "cell_type": "code",
   "execution_count": 5,
   "metadata": {
    "collapsed": true
   },
   "outputs": [],
   "source": [
    "#Initializing the telescope class and folding the pulses\n",
    "\n",
    "T1=PSS.Telescope(S1)\n",
    "T1.observe()\n",
    "T1.fold(period=S1.MetaData.pulsar_period,N_Folds=45)"
   ]
  },
  {
   "cell_type": "code",
   "execution_count": null,
   "metadata": {
    "collapsed": true
   },
   "outputs": [],
   "source": [
    "PSS.utils.j"
   ]
  }
 ],
 "metadata": {
  "kernelspec": {
   "display_name": "Python 3",
   "language": "python",
   "name": "python3"
  },
  "language_info": {
   "codemirror_mode": {
    "name": "ipython",
    "version": 3
   },
   "file_extension": ".py",
   "mimetype": "text/x-python",
   "name": "python",
   "nbconvert_exporter": "python",
   "pygments_lexer": "ipython3",
   "version": "3.6.1"
  }
 },
 "nbformat": 4,
 "nbformat_minor": 2
}
