{
 "cells": [
  {
   "cell_type": "code",
   "execution_count": 2,
   "metadata": {
    "collapsed": true
   },
   "outputs": [],
   "source": [
    "%load_ext autoreload\n",
    "%autoreload 2"
   ]
  },
  {
   "cell_type": "code",
   "execution_count": 1,
   "metadata": {
    "collapsed": false
   },
   "outputs": [],
   "source": [
    "import numpy as np\n",
    "import scipy as sp\n",
    "from matplotlib.pyplot import *\n",
    "%matplotlib inline\n",
    "import sys #Amelia, usually you have to import sys for the next commands to work...\n",
    "sys.path.append('/Users/Poop/REU/')\n",
    "sys.path.append('/Users/jeffrey/GoogleDrive/PulsarSignalSimulator/PulsarSimulator/')\n",
    "import VersionZeroPointZero as PSS\n",
    "import math\n",
    "import numpy as np"
   ]
  },
  {
   "cell_type": "code",
   "execution_count": 3,
   "metadata": {
    "collapsed": true
   },
   "outputs": [],
   "source": [
    "rcParams['figure.figsize'] = (8.0,5.0)\n",
    "rcParams.update({'font.size': 14})"
   ]
  },
  {
   "cell_type": "code",
   "execution_count": 1,
   "metadata": {
    "collapsed": true
   },
   "outputs": [],
   "source": [
    "# I still need to develop a generalized method to shift the central frequency to the center of the array\n",
    "# I have it done in a scratch notebook but wanted to ensure it was the right way before putting it in here"
   ]
  },
  {
   "cell_type": "code",
   "execution_count": null,
   "metadata": {
    "collapsed": true
   },
   "outputs": [],
   "source": [
    "# Should I be using a specific channel for the definition of sig?  In plotting each of the 4 channels\n",
    "# they all seemed pretty identical but I wanted to double check it won't matter which one I use.  :)"
   ]
  },
  {
   "cell_type": "code",
   "execution_count": 4,
   "metadata": {
    "collapsed": true
   },
   "outputs": [],
   "source": [
    "def Disperse(self):\n",
    "    sig = self.signal[1] \n",
    "    signal = sig[0:4000]\n",
    "    DM = self.DM\n",
    "    f0 = self.f0\n",
    "    dt = self.TimeBinSize\n",
    "    fourier = np.fft.rfft(sig)\n",
    "    length = len(fourier)\n",
    "    values = np.linspace(-100,100,length) #Would it be useful to change -100,100 to something else?\n",
    "    freqs = np.fft.rfftfreq(2*len(values)-1,d=dt/1e6)\n",
    "    finalfreqs = freqs*1e3 # Hz -> MHz\n",
    "    FinalFreqs = finalfreqs-f0+1e-10 # Added the 1e-10 to avoid division by 0 errors in exponent\n",
    "    #print FinalFreqs\n",
    "    H = np.exp(1j*2*np.pi*4.148808e9/((FinalFreqs+f0)*f0**2)*DM*FinalFreqs**2)\n",
    "    product = fourier*H\n",
    "    Dispersed = np.fft.irfft(product)\n",
    "    return Dispersed"
   ]
  },
  {
   "cell_type": "markdown",
   "metadata": {},
   "source": [
    "**__Amelia:__** Hi Amelia! This is a really good start. Have you added in the changes that we talked about most recently? You'll want to code into the method that we will be doing this to an array that is `NRows` x `Nt` in shape. Also, we won't want to FFT the whole `Nt` length so we'll need the method to cut up the time axis into arbitrary sized chunks. \n",
    "\n",
    "What is the `values` array for? It seems like you could just use the length you've already defined. Also, why are there so many frequency values in `freqs`? Shouldn't there be `length+1` frequencies in that array?\n",
    "\n",
    "The `self` designation works the way you are trying to use it, but I want to make sure you understand how it works. The `self` is the class object that you are working within, __if__ you are working within a class object. Since this method will be inside the `ISM()` class then it won't be the `Signal` class that you are referring to. So there are somethings you can refer to and some things you can't. If I look in the `ISM()` class it looks like you've referred to everything correctly, but I wanted to make sure. Does that make sense? If not then it might help to either watch a quick Python tutorial on classes (there are many) or do some googling for something on StackExchange. It's really evident if you look at some code.\n",
    "\n",
    "Lastly, and most importantly, can you make this notebook what is called a \" minimal working example\"? That means that there is an example of you calling the signal class from the simulator and then dispersing that signal and plotting it so that we can see what it looks like. It doesn't have to look correct, but that will make it easier for me to see how the code is working, or not working, and how to fix it.\n",
    "\n",
    "Thanks!"
   ]
  },
  {
   "cell_type": "code",
   "execution_count": null,
   "metadata": {
    "collapsed": true
   },
   "outputs": [],
   "source": [
    "def plot_dispersed(self,other):\n",
    "    lim = self.T/self.TimeBinSize\n",
    "    print lim\n",
    "    plot(self.signal[1][0:lim])\n",
    "    if self.SignalType == 'voltage':\n",
    "        title('Voltage vs. Time')\n",
    "        ylabel('Voltage')\n",
    "        xlabel('Time (ms)')\n",
    "    elif self.SignalType == 'intensity':\n",
    "        title('Intensity vs. Time')\n",
    "        ylabel('Intensity')\n",
    "        xlabel('Time (ms)')\n",
    "    plot(Disperse(other)[0:lim])\n",
    "    show()"
   ]
  },
  {
   "cell_type": "markdown",
   "metadata": {},
   "source": [
    "**__Amelia__**: So Above here, it doesn't look like you're using the `self` reference correctly. Especially since you will want to include this in the `PSS_Plots.py` folder. You'll want to actually have someone input the object that you'll be pullig the inform from. Something like:\n",
    "``` python\n",
    "def plot_dispersed(signal_object):\n",
    "```"
   ]
  },
  {
   "cell_type": "code",
   "execution_count": null,
   "metadata": {
    "collapsed": true
   },
   "outputs": [],
   "source": [
    "# Currently the above method (plot_dispersed) doesn't work as intended.  I put it here because it's a rough\n",
    "# draft of what I'd like to eventually include! "
   ]
  }
 ],
 "metadata": {
  "kernelspec": {
   "display_name": "Python [conda env:coralsnake]",
   "language": "python",
   "name": "conda-env-coralsnake-py"
  },
  "language_info": {
   "codemirror_mode": {
    "name": "ipython",
    "version": 2
   },
   "file_extension": ".py",
   "mimetype": "text/x-python",
   "name": "python",
   "nbconvert_exporter": "python",
   "pygments_lexer": "ipython2",
   "version": "2.7.13"
  }
 },
 "nbformat": 4,
 "nbformat_minor": 2
}
